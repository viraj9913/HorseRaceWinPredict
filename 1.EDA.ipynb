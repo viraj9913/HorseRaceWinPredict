{
 "cells": [
  {
   "cell_type": "code",
   "execution_count": 26,
   "id": "5ab1e8a4",
   "metadata": {},
   "outputs": [],
   "source": [
    "import numpy as np\n",
    "import pandas as pd\n",
    "import matplotlib.pyplot as plt\n",
    "import seaborn as sns\n",
    "from sklearn.model_selection import train_test_split\n",
    "from sklearn.preprocessing import LabelEncoder\n",
    "from sklearn.metrics import log_loss\n",
    "import os \n",
    "import plotly.express as px\n",
    "\n",
    "pd.set_option('display.max_columns', None)\n",
    "\n",
    "# from target_encoding import TargetEncoder"
   ]
  },
  {
   "cell_type": "markdown",
   "id": "94f6dd43",
   "metadata": {},
   "source": [
    "__Loading the data__"
   ]
  },
  {
   "cell_type": "code",
   "execution_count": 27,
   "id": "59a27cff",
   "metadata": {},
   "outputs": [
    {
     "name": "stdout",
     "output_type": "stream",
     "text": [
      "<class 'pandas.core.frame.DataFrame'>\n",
      "RangeIndex: 52099 entries, 0 to 52098\n",
      "Data columns (total 28 columns):\n",
      " #   Column                     Non-Null Count  Dtype  \n",
      "---  ------                     --------------  -----  \n",
      " 0   Race_Time                  52099 non-null  object \n",
      " 1   Race_ID                    52099 non-null  int64  \n",
      " 2   Course                     52099 non-null  object \n",
      " 3   Distance                   52099 non-null  object \n",
      " 4   distanceYards              52099 non-null  int64  \n",
      " 5   Prize                      52099 non-null  int64  \n",
      " 6   Going                      52099 non-null  object \n",
      " 7   Horse                      52099 non-null  object \n",
      " 8   Trainer                    52099 non-null  object \n",
      " 9   Jockey                     52099 non-null  object \n",
      " 10  betfairSP                  52099 non-null  float64\n",
      " 11  Position                   52099 non-null  int64  \n",
      " 12  timeSecs                   52099 non-null  float64\n",
      " 13  pdsBeaten                  52099 non-null  float64\n",
      " 14  NMFP                       52099 non-null  float64\n",
      " 15  Runners                    52099 non-null  int64  \n",
      " 16  Age                        52099 non-null  int64  \n",
      " 17  Speed_PreviousRun          52007 non-null  float64\n",
      " 18  Speed_2ndPreviousRun       51897 non-null  float64\n",
      " 19  NMFPLTO                    52007 non-null  float64\n",
      " 20  MarketOdds_PreviousRun     52007 non-null  float64\n",
      " 21  MarketOdds_2ndPreviousRun  51897 non-null  float64\n",
      " 22  TrainerRating              52061 non-null  float64\n",
      " 23  JockeyRating               51956 non-null  float64\n",
      " 24  daysSinceLastRun           52033 non-null  float64\n",
      " 25  SireRating                 52098 non-null  float64\n",
      " 26  DamsireRating              52097 non-null  float64\n",
      " 27  meanRunners                51896 non-null  float64\n",
      "dtypes: float64(15), int64(6), object(7)\n",
      "memory usage: 11.1+ MB\n",
      "None\n"
     ]
    }
   ],
   "source": [
    "traindf=pd.read_csv('trainData.csv')\n",
    "testdf=pd.read_csv('testData.csv')\n",
    "print(traindf.info())\n"
   ]
  },
  {
   "cell_type": "code",
   "execution_count": 28,
   "id": "a23634dc",
   "metadata": {},
   "outputs": [
    {
     "name": "stdout",
     "output_type": "stream",
     "text": [
      "(52099, 28)\n",
      "(11275, 28)\n"
     ]
    }
   ],
   "source": [
    "# number of rows and columns\n",
    "print(traindf.shape)\n",
    "print(testdf.shape)"
   ]
  },
  {
   "cell_type": "code",
   "execution_count": 29,
   "id": "fff0aa87",
   "metadata": {},
   "outputs": [
    {
     "data": {
      "text/html": [
       "<div>\n",
       "<style scoped>\n",
       "    .dataframe tbody tr th:only-of-type {\n",
       "        vertical-align: middle;\n",
       "    }\n",
       "\n",
       "    .dataframe tbody tr th {\n",
       "        vertical-align: top;\n",
       "    }\n",
       "\n",
       "    .dataframe thead th {\n",
       "        text-align: right;\n",
       "    }\n",
       "</style>\n",
       "<table border=\"1\" class=\"dataframe\">\n",
       "  <thead>\n",
       "    <tr style=\"text-align: right;\">\n",
       "      <th></th>\n",
       "      <th>Race_Time</th>\n",
       "      <th>Race_ID</th>\n",
       "      <th>Course</th>\n",
       "      <th>Distance</th>\n",
       "      <th>distanceYards</th>\n",
       "      <th>Prize</th>\n",
       "      <th>Going</th>\n",
       "      <th>Horse</th>\n",
       "      <th>Trainer</th>\n",
       "      <th>Jockey</th>\n",
       "      <th>betfairSP</th>\n",
       "      <th>Position</th>\n",
       "      <th>timeSecs</th>\n",
       "      <th>pdsBeaten</th>\n",
       "      <th>NMFP</th>\n",
       "      <th>Runners</th>\n",
       "      <th>Age</th>\n",
       "      <th>Speed_PreviousRun</th>\n",
       "      <th>Speed_2ndPreviousRun</th>\n",
       "      <th>NMFPLTO</th>\n",
       "      <th>MarketOdds_PreviousRun</th>\n",
       "      <th>MarketOdds_2ndPreviousRun</th>\n",
       "      <th>TrainerRating</th>\n",
       "      <th>JockeyRating</th>\n",
       "      <th>daysSinceLastRun</th>\n",
       "      <th>SireRating</th>\n",
       "      <th>DamsireRating</th>\n",
       "      <th>meanRunners</th>\n",
       "    </tr>\n",
       "  </thead>\n",
       "  <tbody>\n",
       "    <tr>\n",
       "      <th>0</th>\n",
       "      <td>02/01/2024 19:00:00</td>\n",
       "      <td>1935</td>\n",
       "      <td>Wolverhampton</td>\n",
       "      <td>6f 20y</td>\n",
       "      <td>1340</td>\n",
       "      <td>4972</td>\n",
       "      <td>Standard</td>\n",
       "      <td>Intervention</td>\n",
       "      <td>Michael Appleby</td>\n",
       "      <td>Aiden Brookes</td>\n",
       "      <td>1.62</td>\n",
       "      <td>2</td>\n",
       "      <td>73.750000</td>\n",
       "      <td>1.987874</td>\n",
       "      <td>0.666667</td>\n",
       "      <td>6</td>\n",
       "      <td>7</td>\n",
       "      <td>75.0</td>\n",
       "      <td>70.0</td>\n",
       "      <td>0.875000</td>\n",
       "      <td>11.03</td>\n",
       "      <td>3.60</td>\n",
       "      <td>2.377268</td>\n",
       "      <td>2.925027</td>\n",
       "      <td>7.0</td>\n",
       "      <td>2.933961</td>\n",
       "      <td>0.467149</td>\n",
       "      <td>10.25</td>\n",
       "    </tr>\n",
       "    <tr>\n",
       "      <th>1</th>\n",
       "      <td>02/01/2024 19:00:00</td>\n",
       "      <td>1935</td>\n",
       "      <td>Wolverhampton</td>\n",
       "      <td>6f 20y</td>\n",
       "      <td>1340</td>\n",
       "      <td>4972</td>\n",
       "      <td>Standard</td>\n",
       "      <td>Evocative Spark</td>\n",
       "      <td>Darryll Holland</td>\n",
       "      <td>Christian Howarth</td>\n",
       "      <td>7.40</td>\n",
       "      <td>3</td>\n",
       "      <td>74.129997</td>\n",
       "      <td>2.442347</td>\n",
       "      <td>0.500000</td>\n",
       "      <td>6</td>\n",
       "      <td>5</td>\n",
       "      <td>62.0</td>\n",
       "      <td>48.0</td>\n",
       "      <td>0.181818</td>\n",
       "      <td>42.67</td>\n",
       "      <td>4.19</td>\n",
       "      <td>2.401274</td>\n",
       "      <td>2.611219</td>\n",
       "      <td>13.0</td>\n",
       "      <td>1.934009</td>\n",
       "      <td>0.459547</td>\n",
       "      <td>10.25</td>\n",
       "    </tr>\n",
       "    <tr>\n",
       "      <th>2</th>\n",
       "      <td>02/01/2024 19:00:00</td>\n",
       "      <td>1935</td>\n",
       "      <td>Wolverhampton</td>\n",
       "      <td>6f 20y</td>\n",
       "      <td>1340</td>\n",
       "      <td>4972</td>\n",
       "      <td>Standard</td>\n",
       "      <td>Sluzewiec</td>\n",
       "      <td>Scott Dixon</td>\n",
       "      <td>Kieran O'Neill</td>\n",
       "      <td>69.12</td>\n",
       "      <td>5</td>\n",
       "      <td>74.940002</td>\n",
       "      <td>3.025291</td>\n",
       "      <td>0.166667</td>\n",
       "      <td>6</td>\n",
       "      <td>5</td>\n",
       "      <td>51.0</td>\n",
       "      <td>59.0</td>\n",
       "      <td>0.000000</td>\n",
       "      <td>141.13</td>\n",
       "      <td>86.83</td>\n",
       "      <td>2.824967</td>\n",
       "      <td>2.925073</td>\n",
       "      <td>50.0</td>\n",
       "      <td>2.411403</td>\n",
       "      <td>0.456616</td>\n",
       "      <td>8.00</td>\n",
       "    </tr>\n",
       "    <tr>\n",
       "      <th>3</th>\n",
       "      <td>02/01/2024 19:00:00</td>\n",
       "      <td>1935</td>\n",
       "      <td>Wolverhampton</td>\n",
       "      <td>6f 20y</td>\n",
       "      <td>1340</td>\n",
       "      <td>4972</td>\n",
       "      <td>Standard</td>\n",
       "      <td>Muscika</td>\n",
       "      <td>David O'Meara</td>\n",
       "      <td>Mark Winn</td>\n",
       "      <td>7.72</td>\n",
       "      <td>6</td>\n",
       "      <td>75.019997</td>\n",
       "      <td>3.065258</td>\n",
       "      <td>0.000000</td>\n",
       "      <td>6</td>\n",
       "      <td>10</td>\n",
       "      <td>65.0</td>\n",
       "      <td>73.0</td>\n",
       "      <td>0.333333</td>\n",
       "      <td>8.97</td>\n",
       "      <td>12.86</td>\n",
       "      <td>2.317504</td>\n",
       "      <td>2.534689</td>\n",
       "      <td>38.0</td>\n",
       "      <td>2.639010</td>\n",
       "      <td>0.462397</td>\n",
       "      <td>10.00</td>\n",
       "    </tr>\n",
       "    <tr>\n",
       "      <th>4</th>\n",
       "      <td>02/01/2024 19:00:00</td>\n",
       "      <td>1935</td>\n",
       "      <td>Wolverhampton</td>\n",
       "      <td>6f 20y</td>\n",
       "      <td>1340</td>\n",
       "      <td>4972</td>\n",
       "      <td>Standard</td>\n",
       "      <td>Venturous</td>\n",
       "      <td>David Barron</td>\n",
       "      <td>David Probert</td>\n",
       "      <td>15.11</td>\n",
       "      <td>4</td>\n",
       "      <td>74.500000</td>\n",
       "      <td>2.753661</td>\n",
       "      <td>0.333333</td>\n",
       "      <td>6</td>\n",
       "      <td>11</td>\n",
       "      <td>59.0</td>\n",
       "      <td>62.0</td>\n",
       "      <td>0.090909</td>\n",
       "      <td>44.84</td>\n",
       "      <td>18.20</td>\n",
       "      <td>2.292027</td>\n",
       "      <td>2.448742</td>\n",
       "      <td>24.0</td>\n",
       "      <td>2.494198</td>\n",
       "      <td>0.450770</td>\n",
       "      <td>11.00</td>\n",
       "    </tr>\n",
       "  </tbody>\n",
       "</table>\n",
       "</div>"
      ],
      "text/plain": [
       "             Race_Time  Race_ID         Course Distance  distanceYards  Prize  \\\n",
       "0  02/01/2024 19:00:00     1935  Wolverhampton   6f 20y           1340   4972   \n",
       "1  02/01/2024 19:00:00     1935  Wolverhampton   6f 20y           1340   4972   \n",
       "2  02/01/2024 19:00:00     1935  Wolverhampton   6f 20y           1340   4972   \n",
       "3  02/01/2024 19:00:00     1935  Wolverhampton   6f 20y           1340   4972   \n",
       "4  02/01/2024 19:00:00     1935  Wolverhampton   6f 20y           1340   4972   \n",
       "\n",
       "      Going            Horse          Trainer             Jockey  betfairSP  \\\n",
       "0  Standard     Intervention  Michael Appleby      Aiden Brookes       1.62   \n",
       "1  Standard  Evocative Spark  Darryll Holland  Christian Howarth       7.40   \n",
       "2  Standard        Sluzewiec      Scott Dixon     Kieran O'Neill      69.12   \n",
       "3  Standard          Muscika    David O'Meara          Mark Winn       7.72   \n",
       "4  Standard        Venturous     David Barron      David Probert      15.11   \n",
       "\n",
       "   Position   timeSecs  pdsBeaten      NMFP  Runners  Age  Speed_PreviousRun  \\\n",
       "0         2  73.750000   1.987874  0.666667        6    7               75.0   \n",
       "1         3  74.129997   2.442347  0.500000        6    5               62.0   \n",
       "2         5  74.940002   3.025291  0.166667        6    5               51.0   \n",
       "3         6  75.019997   3.065258  0.000000        6   10               65.0   \n",
       "4         4  74.500000   2.753661  0.333333        6   11               59.0   \n",
       "\n",
       "   Speed_2ndPreviousRun   NMFPLTO  MarketOdds_PreviousRun  \\\n",
       "0                  70.0  0.875000                   11.03   \n",
       "1                  48.0  0.181818                   42.67   \n",
       "2                  59.0  0.000000                  141.13   \n",
       "3                  73.0  0.333333                    8.97   \n",
       "4                  62.0  0.090909                   44.84   \n",
       "\n",
       "   MarketOdds_2ndPreviousRun  TrainerRating  JockeyRating  daysSinceLastRun  \\\n",
       "0                       3.60       2.377268      2.925027               7.0   \n",
       "1                       4.19       2.401274      2.611219              13.0   \n",
       "2                      86.83       2.824967      2.925073              50.0   \n",
       "3                      12.86       2.317504      2.534689              38.0   \n",
       "4                      18.20       2.292027      2.448742              24.0   \n",
       "\n",
       "   SireRating  DamsireRating  meanRunners  \n",
       "0    2.933961       0.467149        10.25  \n",
       "1    1.934009       0.459547        10.25  \n",
       "2    2.411403       0.456616         8.00  \n",
       "3    2.639010       0.462397        10.00  \n",
       "4    2.494198       0.450770        11.00  "
      ]
     },
     "execution_count": 29,
     "metadata": {},
     "output_type": "execute_result"
    }
   ],
   "source": [
    "traindf.head()"
   ]
  },
  {
   "cell_type": "markdown",
   "id": "2e62a819",
   "metadata": {},
   "source": [
    "__Converting columns__"
   ]
  },
  {
   "cell_type": "code",
   "execution_count": 30,
   "id": "ee981a1e",
   "metadata": {},
   "outputs": [],
   "source": [
    "traindf['Race_Time']=pd.to_datetime(traindf['Race_Time'],dayfirst=True)\n",
    "# testdf['Race_Time']=pd.to_datetime(testdf['Race_Time'])"
   ]
  },
  {
   "cell_type": "code",
   "execution_count": 31,
   "id": "ae4333a5",
   "metadata": {},
   "outputs": [
    {
     "data": {
      "text/html": [
       "<div>\n",
       "<style scoped>\n",
       "    .dataframe tbody tr th:only-of-type {\n",
       "        vertical-align: middle;\n",
       "    }\n",
       "\n",
       "    .dataframe tbody tr th {\n",
       "        vertical-align: top;\n",
       "    }\n",
       "\n",
       "    .dataframe thead th {\n",
       "        text-align: right;\n",
       "    }\n",
       "</style>\n",
       "<table border=\"1\" class=\"dataframe\">\n",
       "  <thead>\n",
       "    <tr style=\"text-align: right;\">\n",
       "      <th></th>\n",
       "      <th>Race_Time</th>\n",
       "      <th>Race_ID</th>\n",
       "      <th>Course</th>\n",
       "      <th>Distance</th>\n",
       "      <th>distanceYards</th>\n",
       "      <th>Prize</th>\n",
       "      <th>Going</th>\n",
       "      <th>Horse</th>\n",
       "      <th>Trainer</th>\n",
       "      <th>Jockey</th>\n",
       "      <th>betfairSP</th>\n",
       "      <th>Position</th>\n",
       "      <th>timeSecs</th>\n",
       "      <th>pdsBeaten</th>\n",
       "      <th>NMFP</th>\n",
       "      <th>Runners</th>\n",
       "      <th>Age</th>\n",
       "      <th>Speed_PreviousRun</th>\n",
       "      <th>Speed_2ndPreviousRun</th>\n",
       "      <th>NMFPLTO</th>\n",
       "      <th>MarketOdds_PreviousRun</th>\n",
       "      <th>MarketOdds_2ndPreviousRun</th>\n",
       "      <th>TrainerRating</th>\n",
       "      <th>JockeyRating</th>\n",
       "      <th>daysSinceLastRun</th>\n",
       "      <th>SireRating</th>\n",
       "      <th>DamsireRating</th>\n",
       "      <th>meanRunners</th>\n",
       "    </tr>\n",
       "  </thead>\n",
       "  <tbody>\n",
       "    <tr>\n",
       "      <th>0</th>\n",
       "      <td>2024-01-02 19:00:00</td>\n",
       "      <td>1935</td>\n",
       "      <td>Wolverhampton</td>\n",
       "      <td>6f 20y</td>\n",
       "      <td>1340</td>\n",
       "      <td>4972</td>\n",
       "      <td>Standard</td>\n",
       "      <td>Intervention</td>\n",
       "      <td>Michael Appleby</td>\n",
       "      <td>Aiden Brookes</td>\n",
       "      <td>1.62</td>\n",
       "      <td>2</td>\n",
       "      <td>73.750000</td>\n",
       "      <td>1.987874</td>\n",
       "      <td>0.666667</td>\n",
       "      <td>6</td>\n",
       "      <td>7</td>\n",
       "      <td>75.0</td>\n",
       "      <td>70.0</td>\n",
       "      <td>0.875000</td>\n",
       "      <td>11.03</td>\n",
       "      <td>3.60</td>\n",
       "      <td>2.377268</td>\n",
       "      <td>2.925027</td>\n",
       "      <td>7.0</td>\n",
       "      <td>2.933961</td>\n",
       "      <td>0.467149</td>\n",
       "      <td>10.25</td>\n",
       "    </tr>\n",
       "    <tr>\n",
       "      <th>1</th>\n",
       "      <td>2024-01-02 19:00:00</td>\n",
       "      <td>1935</td>\n",
       "      <td>Wolverhampton</td>\n",
       "      <td>6f 20y</td>\n",
       "      <td>1340</td>\n",
       "      <td>4972</td>\n",
       "      <td>Standard</td>\n",
       "      <td>Evocative Spark</td>\n",
       "      <td>Darryll Holland</td>\n",
       "      <td>Christian Howarth</td>\n",
       "      <td>7.40</td>\n",
       "      <td>3</td>\n",
       "      <td>74.129997</td>\n",
       "      <td>2.442347</td>\n",
       "      <td>0.500000</td>\n",
       "      <td>6</td>\n",
       "      <td>5</td>\n",
       "      <td>62.0</td>\n",
       "      <td>48.0</td>\n",
       "      <td>0.181818</td>\n",
       "      <td>42.67</td>\n",
       "      <td>4.19</td>\n",
       "      <td>2.401274</td>\n",
       "      <td>2.611219</td>\n",
       "      <td>13.0</td>\n",
       "      <td>1.934009</td>\n",
       "      <td>0.459547</td>\n",
       "      <td>10.25</td>\n",
       "    </tr>\n",
       "    <tr>\n",
       "      <th>2</th>\n",
       "      <td>2024-01-02 19:00:00</td>\n",
       "      <td>1935</td>\n",
       "      <td>Wolverhampton</td>\n",
       "      <td>6f 20y</td>\n",
       "      <td>1340</td>\n",
       "      <td>4972</td>\n",
       "      <td>Standard</td>\n",
       "      <td>Sluzewiec</td>\n",
       "      <td>Scott Dixon</td>\n",
       "      <td>Kieran O'Neill</td>\n",
       "      <td>69.12</td>\n",
       "      <td>5</td>\n",
       "      <td>74.940002</td>\n",
       "      <td>3.025291</td>\n",
       "      <td>0.166667</td>\n",
       "      <td>6</td>\n",
       "      <td>5</td>\n",
       "      <td>51.0</td>\n",
       "      <td>59.0</td>\n",
       "      <td>0.000000</td>\n",
       "      <td>141.13</td>\n",
       "      <td>86.83</td>\n",
       "      <td>2.824967</td>\n",
       "      <td>2.925073</td>\n",
       "      <td>50.0</td>\n",
       "      <td>2.411403</td>\n",
       "      <td>0.456616</td>\n",
       "      <td>8.00</td>\n",
       "    </tr>\n",
       "    <tr>\n",
       "      <th>3</th>\n",
       "      <td>2024-01-02 19:00:00</td>\n",
       "      <td>1935</td>\n",
       "      <td>Wolverhampton</td>\n",
       "      <td>6f 20y</td>\n",
       "      <td>1340</td>\n",
       "      <td>4972</td>\n",
       "      <td>Standard</td>\n",
       "      <td>Muscika</td>\n",
       "      <td>David O'Meara</td>\n",
       "      <td>Mark Winn</td>\n",
       "      <td>7.72</td>\n",
       "      <td>6</td>\n",
       "      <td>75.019997</td>\n",
       "      <td>3.065258</td>\n",
       "      <td>0.000000</td>\n",
       "      <td>6</td>\n",
       "      <td>10</td>\n",
       "      <td>65.0</td>\n",
       "      <td>73.0</td>\n",
       "      <td>0.333333</td>\n",
       "      <td>8.97</td>\n",
       "      <td>12.86</td>\n",
       "      <td>2.317504</td>\n",
       "      <td>2.534689</td>\n",
       "      <td>38.0</td>\n",
       "      <td>2.639010</td>\n",
       "      <td>0.462397</td>\n",
       "      <td>10.00</td>\n",
       "    </tr>\n",
       "    <tr>\n",
       "      <th>4</th>\n",
       "      <td>2024-01-02 19:00:00</td>\n",
       "      <td>1935</td>\n",
       "      <td>Wolverhampton</td>\n",
       "      <td>6f 20y</td>\n",
       "      <td>1340</td>\n",
       "      <td>4972</td>\n",
       "      <td>Standard</td>\n",
       "      <td>Venturous</td>\n",
       "      <td>David Barron</td>\n",
       "      <td>David Probert</td>\n",
       "      <td>15.11</td>\n",
       "      <td>4</td>\n",
       "      <td>74.500000</td>\n",
       "      <td>2.753661</td>\n",
       "      <td>0.333333</td>\n",
       "      <td>6</td>\n",
       "      <td>11</td>\n",
       "      <td>59.0</td>\n",
       "      <td>62.0</td>\n",
       "      <td>0.090909</td>\n",
       "      <td>44.84</td>\n",
       "      <td>18.20</td>\n",
       "      <td>2.292027</td>\n",
       "      <td>2.448742</td>\n",
       "      <td>24.0</td>\n",
       "      <td>2.494198</td>\n",
       "      <td>0.450770</td>\n",
       "      <td>11.00</td>\n",
       "    </tr>\n",
       "    <tr>\n",
       "      <th>...</th>\n",
       "      <td>...</td>\n",
       "      <td>...</td>\n",
       "      <td>...</td>\n",
       "      <td>...</td>\n",
       "      <td>...</td>\n",
       "      <td>...</td>\n",
       "      <td>...</td>\n",
       "      <td>...</td>\n",
       "      <td>...</td>\n",
       "      <td>...</td>\n",
       "      <td>...</td>\n",
       "      <td>...</td>\n",
       "      <td>...</td>\n",
       "      <td>...</td>\n",
       "      <td>...</td>\n",
       "      <td>...</td>\n",
       "      <td>...</td>\n",
       "      <td>...</td>\n",
       "      <td>...</td>\n",
       "      <td>...</td>\n",
       "      <td>...</td>\n",
       "      <td>...</td>\n",
       "      <td>...</td>\n",
       "      <td>...</td>\n",
       "      <td>...</td>\n",
       "      <td>...</td>\n",
       "      <td>...</td>\n",
       "      <td>...</td>\n",
       "    </tr>\n",
       "    <tr>\n",
       "      <th>52094</th>\n",
       "      <td>2024-12-31 15:22:00</td>\n",
       "      <td>56178</td>\n",
       "      <td>Lingfield</td>\n",
       "      <td>1m 4f</td>\n",
       "      <td>2640</td>\n",
       "      <td>4711</td>\n",
       "      <td>Standard</td>\n",
       "      <td>Fullforward</td>\n",
       "      <td>Michael Madgwick</td>\n",
       "      <td>William Carson</td>\n",
       "      <td>26.24</td>\n",
       "      <td>3</td>\n",
       "      <td>154.220001</td>\n",
       "      <td>1.998096</td>\n",
       "      <td>0.727273</td>\n",
       "      <td>11</td>\n",
       "      <td>4</td>\n",
       "      <td>56.0</td>\n",
       "      <td>43.0</td>\n",
       "      <td>0.833333</td>\n",
       "      <td>9.04</td>\n",
       "      <td>13.23</td>\n",
       "      <td>2.968319</td>\n",
       "      <td>2.767347</td>\n",
       "      <td>57.0</td>\n",
       "      <td>2.718093</td>\n",
       "      <td>0.480990</td>\n",
       "      <td>8.75</td>\n",
       "    </tr>\n",
       "    <tr>\n",
       "      <th>52095</th>\n",
       "      <td>2024-12-31 15:22:00</td>\n",
       "      <td>56178</td>\n",
       "      <td>Lingfield</td>\n",
       "      <td>1m 4f</td>\n",
       "      <td>2640</td>\n",
       "      <td>4711</td>\n",
       "      <td>Standard</td>\n",
       "      <td>Pablo Prince</td>\n",
       "      <td>Karen Jewell</td>\n",
       "      <td>Luke Morris</td>\n",
       "      <td>12.00</td>\n",
       "      <td>7</td>\n",
       "      <td>155.119995</td>\n",
       "      <td>2.547490</td>\n",
       "      <td>0.363636</td>\n",
       "      <td>11</td>\n",
       "      <td>6</td>\n",
       "      <td>45.0</td>\n",
       "      <td>55.0</td>\n",
       "      <td>0.500000</td>\n",
       "      <td>48.38</td>\n",
       "      <td>5.09</td>\n",
       "      <td>3.233067</td>\n",
       "      <td>2.457842</td>\n",
       "      <td>40.0</td>\n",
       "      <td>3.019927</td>\n",
       "      <td>0.449697</td>\n",
       "      <td>11.50</td>\n",
       "    </tr>\n",
       "    <tr>\n",
       "      <th>52096</th>\n",
       "      <td>2024-12-31 15:22:00</td>\n",
       "      <td>56178</td>\n",
       "      <td>Lingfield</td>\n",
       "      <td>1m 4f</td>\n",
       "      <td>2640</td>\n",
       "      <td>4711</td>\n",
       "      <td>Standard</td>\n",
       "      <td>Paradoxical</td>\n",
       "      <td>Jennie Candlish</td>\n",
       "      <td>George Wood</td>\n",
       "      <td>2.27</td>\n",
       "      <td>1</td>\n",
       "      <td>153.160004</td>\n",
       "      <td>0.000000</td>\n",
       "      <td>0.909091</td>\n",
       "      <td>11</td>\n",
       "      <td>3</td>\n",
       "      <td>71.0</td>\n",
       "      <td>58.0</td>\n",
       "      <td>0.800000</td>\n",
       "      <td>6.03</td>\n",
       "      <td>7.12</td>\n",
       "      <td>2.554826</td>\n",
       "      <td>2.555626</td>\n",
       "      <td>5.0</td>\n",
       "      <td>2.584142</td>\n",
       "      <td>0.450076</td>\n",
       "      <td>10.50</td>\n",
       "    </tr>\n",
       "    <tr>\n",
       "      <th>52097</th>\n",
       "      <td>2024-12-31 15:22:00</td>\n",
       "      <td>56178</td>\n",
       "      <td>Lingfield</td>\n",
       "      <td>1m 4f</td>\n",
       "      <td>2640</td>\n",
       "      <td>4711</td>\n",
       "      <td>Standard</td>\n",
       "      <td>Keen Interest</td>\n",
       "      <td>Alice Haynes</td>\n",
       "      <td>Kieran O'Neill</td>\n",
       "      <td>48.97</td>\n",
       "      <td>11</td>\n",
       "      <td>159.440002</td>\n",
       "      <td>3.654547</td>\n",
       "      <td>0.000000</td>\n",
       "      <td>11</td>\n",
       "      <td>3</td>\n",
       "      <td>53.0</td>\n",
       "      <td>51.0</td>\n",
       "      <td>0.400000</td>\n",
       "      <td>26.57</td>\n",
       "      <td>22.16</td>\n",
       "      <td>2.443137</td>\n",
       "      <td>2.917672</td>\n",
       "      <td>15.0</td>\n",
       "      <td>2.632082</td>\n",
       "      <td>0.456602</td>\n",
       "      <td>10.75</td>\n",
       "    </tr>\n",
       "    <tr>\n",
       "      <th>52098</th>\n",
       "      <td>2024-12-31 15:22:00</td>\n",
       "      <td>56178</td>\n",
       "      <td>Lingfield</td>\n",
       "      <td>1m 4f</td>\n",
       "      <td>2640</td>\n",
       "      <td>4711</td>\n",
       "      <td>Standard</td>\n",
       "      <td>Gentle Fire</td>\n",
       "      <td>Tony Carroll</td>\n",
       "      <td>Jack Doughty</td>\n",
       "      <td>163.88</td>\n",
       "      <td>9</td>\n",
       "      <td>156.250000</td>\n",
       "      <td>2.971696</td>\n",
       "      <td>0.181818</td>\n",
       "      <td>11</td>\n",
       "      <td>8</td>\n",
       "      <td>51.0</td>\n",
       "      <td>55.0</td>\n",
       "      <td>0.125000</td>\n",
       "      <td>55.00</td>\n",
       "      <td>13.45</td>\n",
       "      <td>2.638076</td>\n",
       "      <td>2.428414</td>\n",
       "      <td>49.0</td>\n",
       "      <td>3.274415</td>\n",
       "      <td>0.454509</td>\n",
       "      <td>9.50</td>\n",
       "    </tr>\n",
       "  </tbody>\n",
       "</table>\n",
       "<p>52099 rows × 28 columns</p>\n",
       "</div>"
      ],
      "text/plain": [
       "                Race_Time  Race_ID         Course Distance  distanceYards  \\\n",
       "0     2024-01-02 19:00:00     1935  Wolverhampton   6f 20y           1340   \n",
       "1     2024-01-02 19:00:00     1935  Wolverhampton   6f 20y           1340   \n",
       "2     2024-01-02 19:00:00     1935  Wolverhampton   6f 20y           1340   \n",
       "3     2024-01-02 19:00:00     1935  Wolverhampton   6f 20y           1340   \n",
       "4     2024-01-02 19:00:00     1935  Wolverhampton   6f 20y           1340   \n",
       "...                   ...      ...            ...      ...            ...   \n",
       "52094 2024-12-31 15:22:00    56178      Lingfield    1m 4f           2640   \n",
       "52095 2024-12-31 15:22:00    56178      Lingfield    1m 4f           2640   \n",
       "52096 2024-12-31 15:22:00    56178      Lingfield    1m 4f           2640   \n",
       "52097 2024-12-31 15:22:00    56178      Lingfield    1m 4f           2640   \n",
       "52098 2024-12-31 15:22:00    56178      Lingfield    1m 4f           2640   \n",
       "\n",
       "       Prize     Going            Horse           Trainer             Jockey  \\\n",
       "0       4972  Standard     Intervention   Michael Appleby      Aiden Brookes   \n",
       "1       4972  Standard  Evocative Spark   Darryll Holland  Christian Howarth   \n",
       "2       4972  Standard        Sluzewiec       Scott Dixon     Kieran O'Neill   \n",
       "3       4972  Standard          Muscika     David O'Meara          Mark Winn   \n",
       "4       4972  Standard        Venturous      David Barron      David Probert   \n",
       "...      ...       ...              ...               ...                ...   \n",
       "52094   4711  Standard      Fullforward  Michael Madgwick     William Carson   \n",
       "52095   4711  Standard     Pablo Prince      Karen Jewell        Luke Morris   \n",
       "52096   4711  Standard      Paradoxical   Jennie Candlish        George Wood   \n",
       "52097   4711  Standard    Keen Interest      Alice Haynes     Kieran O'Neill   \n",
       "52098   4711  Standard      Gentle Fire      Tony Carroll       Jack Doughty   \n",
       "\n",
       "       betfairSP  Position    timeSecs  pdsBeaten      NMFP  Runners  Age  \\\n",
       "0           1.62         2   73.750000   1.987874  0.666667        6    7   \n",
       "1           7.40         3   74.129997   2.442347  0.500000        6    5   \n",
       "2          69.12         5   74.940002   3.025291  0.166667        6    5   \n",
       "3           7.72         6   75.019997   3.065258  0.000000        6   10   \n",
       "4          15.11         4   74.500000   2.753661  0.333333        6   11   \n",
       "...          ...       ...         ...        ...       ...      ...  ...   \n",
       "52094      26.24         3  154.220001   1.998096  0.727273       11    4   \n",
       "52095      12.00         7  155.119995   2.547490  0.363636       11    6   \n",
       "52096       2.27         1  153.160004   0.000000  0.909091       11    3   \n",
       "52097      48.97        11  159.440002   3.654547  0.000000       11    3   \n",
       "52098     163.88         9  156.250000   2.971696  0.181818       11    8   \n",
       "\n",
       "       Speed_PreviousRun  Speed_2ndPreviousRun   NMFPLTO  \\\n",
       "0                   75.0                  70.0  0.875000   \n",
       "1                   62.0                  48.0  0.181818   \n",
       "2                   51.0                  59.0  0.000000   \n",
       "3                   65.0                  73.0  0.333333   \n",
       "4                   59.0                  62.0  0.090909   \n",
       "...                  ...                   ...       ...   \n",
       "52094               56.0                  43.0  0.833333   \n",
       "52095               45.0                  55.0  0.500000   \n",
       "52096               71.0                  58.0  0.800000   \n",
       "52097               53.0                  51.0  0.400000   \n",
       "52098               51.0                  55.0  0.125000   \n",
       "\n",
       "       MarketOdds_PreviousRun  MarketOdds_2ndPreviousRun  TrainerRating  \\\n",
       "0                       11.03                       3.60       2.377268   \n",
       "1                       42.67                       4.19       2.401274   \n",
       "2                      141.13                      86.83       2.824967   \n",
       "3                        8.97                      12.86       2.317504   \n",
       "4                       44.84                      18.20       2.292027   \n",
       "...                       ...                        ...            ...   \n",
       "52094                    9.04                      13.23       2.968319   \n",
       "52095                   48.38                       5.09       3.233067   \n",
       "52096                    6.03                       7.12       2.554826   \n",
       "52097                   26.57                      22.16       2.443137   \n",
       "52098                   55.00                      13.45       2.638076   \n",
       "\n",
       "       JockeyRating  daysSinceLastRun  SireRating  DamsireRating  meanRunners  \n",
       "0          2.925027               7.0    2.933961       0.467149        10.25  \n",
       "1          2.611219              13.0    1.934009       0.459547        10.25  \n",
       "2          2.925073              50.0    2.411403       0.456616         8.00  \n",
       "3          2.534689              38.0    2.639010       0.462397        10.00  \n",
       "4          2.448742              24.0    2.494198       0.450770        11.00  \n",
       "...             ...               ...         ...            ...          ...  \n",
       "52094      2.767347              57.0    2.718093       0.480990         8.75  \n",
       "52095      2.457842              40.0    3.019927       0.449697        11.50  \n",
       "52096      2.555626               5.0    2.584142       0.450076        10.50  \n",
       "52097      2.917672              15.0    2.632082       0.456602        10.75  \n",
       "52098      2.428414              49.0    3.274415       0.454509         9.50  \n",
       "\n",
       "[52099 rows x 28 columns]"
      ]
     },
     "execution_count": 31,
     "metadata": {},
     "output_type": "execute_result"
    }
   ],
   "source": [
    "traindf"
   ]
  },
  {
   "cell_type": "code",
   "execution_count": 32,
   "id": "800a989c",
   "metadata": {},
   "outputs": [
    {
     "data": {
      "text/plain": [
       "array(['Wolverhampton', 'Kempton', 'Lingfield', 'Newcastle', 'Southwell',\n",
       "       'Chelmsford City', 'Dundalk', 'Curragh', 'Doncaster', 'Naas',\n",
       "       'Cork', 'Pontefract', 'Catterick', 'Bath', 'Leopardstown',\n",
       "       'Thirsk', 'Yarmouth', 'Windsor', 'Newmarket', 'Ripon', 'Newbury',\n",
       "       'Brighton', 'Nottingham', 'Musselburgh', 'Epsom', 'Gowran Park',\n",
       "       'Beverley', 'Sandown', 'Navan', 'Leicester', 'Haydock', 'Wetherby',\n",
       "       'Ayr', 'Ascot', 'Redcar', 'Goodwood', 'Hamilton', 'Salisbury',\n",
       "       'Sligo', 'Chester', 'Roscommon', 'Chepstow', 'Killarney', 'York',\n",
       "       'Limerick', 'Carlisle', 'Tipperary', 'Fairyhouse', 'Down Royal',\n",
       "       'Listowel', 'Ffos Las', 'Ballinrobe', 'Bellewstown', 'Galway',\n",
       "       'Tramore', 'Clonmel', 'Laytown', 'Punchestown', 'Thurles'],\n",
       "      dtype=object)"
      ]
     },
     "execution_count": 32,
     "metadata": {},
     "output_type": "execute_result"
    }
   ],
   "source": [
    "# low cardinality\n",
    "traindf['Going'].unique() # 7 unique features\n",
    "\n",
    "# high cardinality\n",
    "traindf['Trainer'].unique() # more than 500\n",
    "traindf['Jockey'].unique() # more than 1000\n",
    "traindf['Course'].unique() # between 20 and 30 unique features\n",
    "\n",
    "\n",
    "# we may further need to do label encoding for the columns with low cardinality"
   ]
  },
  {
   "cell_type": "markdown",
   "id": "6d0abab5",
   "metadata": {},
   "source": [
    "__Percent of missing values__"
   ]
  },
  {
   "cell_type": "code",
   "execution_count": 33,
   "id": "0617b413",
   "metadata": {},
   "outputs": [
    {
     "name": "stdout",
     "output_type": "stream",
     "text": [
      "['Speed_PreviousRun', 'Speed_2ndPreviousRun', 'NMFPLTO', 'MarketOdds_PreviousRun', 'MarketOdds_2ndPreviousRun', 'TrainerRating', 'JockeyRating', 'daysSinceLastRun', 'DamsireRating', 'meanRunners']\n",
      "Speed_PreviousRun 0.0018 % of missing value\n",
      "Speed_2ndPreviousRun 0.0039 % of missing value\n",
      "NMFPLTO 0.0018 % of missing value\n",
      "MarketOdds_PreviousRun 0.0018 % of missing value\n",
      "MarketOdds_2ndPreviousRun 0.0039 % of missing value\n",
      "TrainerRating 0.0007 % of missing value\n",
      "JockeyRating 0.0027 % of missing value\n",
      "daysSinceLastRun 0.0013 % of missing value\n",
      "DamsireRating 0.0 % of missing value\n",
      "meanRunners 0.0039 % of missing value\n"
     ]
    }
   ],
   "source": [
    "# finding % of missing values\n",
    "feature_na=[feature for feature in traindf.columns if traindf[feature].isnull().sum()>1]\n",
    "print(feature_na)\n",
    "\n",
    "for feature in feature_na:\n",
    "    \n",
    "    print(feature,np.round(traindf[feature].isnull().mean(),4),'% of missing value')\n"
   ]
  },
  {
   "cell_type": "code",
   "execution_count": 34,
   "id": "79af9180",
   "metadata": {},
   "outputs": [
    {
     "name": "stdout",
     "output_type": "stream",
     "text": [
      "Race_Time                     0\n",
      "Race_ID                       0\n",
      "Course                        0\n",
      "Distance                      0\n",
      "distanceYards                 0\n",
      "Prize                         0\n",
      "Going                         0\n",
      "Horse                         0\n",
      "Trainer                       0\n",
      "Jockey                        0\n",
      "betfairSP                     0\n",
      "Position                      0\n",
      "timeSecs                      0\n",
      "pdsBeaten                     0\n",
      "NMFP                          0\n",
      "Runners                       0\n",
      "Age                           0\n",
      "Speed_PreviousRun            16\n",
      "Speed_2ndPreviousRun         30\n",
      "NMFPLTO                      16\n",
      "MarketOdds_PreviousRun       16\n",
      "MarketOdds_2ndPreviousRun    30\n",
      "TrainerRating                 9\n",
      "JockeyRating                 22\n",
      "daysSinceLastRun             13\n",
      "SireRating                    1\n",
      "DamsireRating                 0\n",
      "meanRunners                  31\n",
      "dtype: int64\n"
     ]
    },
    {
     "data": {
      "text/plain": [
       "Race_Time                      0\n",
       "Race_ID                        0\n",
       "Course                         0\n",
       "Distance                       0\n",
       "distanceYards                  0\n",
       "Prize                          0\n",
       "Going                          0\n",
       "Horse                          0\n",
       "Trainer                        0\n",
       "Jockey                         0\n",
       "betfairSP                      0\n",
       "Position                       0\n",
       "timeSecs                       0\n",
       "pdsBeaten                      0\n",
       "NMFP                           0\n",
       "Runners                        0\n",
       "Age                            0\n",
       "Speed_PreviousRun             92\n",
       "Speed_2ndPreviousRun         202\n",
       "NMFPLTO                       92\n",
       "MarketOdds_PreviousRun        92\n",
       "MarketOdds_2ndPreviousRun    202\n",
       "TrainerRating                 38\n",
       "JockeyRating                 143\n",
       "daysSinceLastRun              66\n",
       "SireRating                     1\n",
       "DamsireRating                  2\n",
       "meanRunners                  203\n",
       "dtype: int64"
      ]
     },
     "execution_count": 34,
     "metadata": {},
     "output_type": "execute_result"
    }
   ],
   "source": [
    "print(testdf.isnull().sum())\n",
    "traindf.isnull().sum()"
   ]
  },
  {
   "cell_type": "markdown",
   "id": "9b056f8b",
   "metadata": {},
   "source": [
    "__Correlation__"
   ]
  },
  {
   "cell_type": "markdown",
   "id": "cefa2164",
   "metadata": {},
   "source": [
    "__Target Distribution__"
   ]
  },
  {
   "cell_type": "code",
   "execution_count": 35,
   "id": "f74d9884",
   "metadata": {},
   "outputs": [
    {
     "data": {
      "text/html": [
       "<div>\n",
       "<style scoped>\n",
       "    .dataframe tbody tr th:only-of-type {\n",
       "        vertical-align: middle;\n",
       "    }\n",
       "\n",
       "    .dataframe tbody tr th {\n",
       "        vertical-align: top;\n",
       "    }\n",
       "\n",
       "    .dataframe thead th {\n",
       "        text-align: right;\n",
       "    }\n",
       "</style>\n",
       "<table border=\"1\" class=\"dataframe\">\n",
       "  <thead>\n",
       "    <tr style=\"text-align: right;\">\n",
       "      <th></th>\n",
       "      <th>Race_Time</th>\n",
       "      <th>Race_ID</th>\n",
       "      <th>Course</th>\n",
       "      <th>Distance</th>\n",
       "      <th>distanceYards</th>\n",
       "      <th>Prize</th>\n",
       "      <th>Going</th>\n",
       "      <th>Horse</th>\n",
       "      <th>Trainer</th>\n",
       "      <th>Jockey</th>\n",
       "      <th>betfairSP</th>\n",
       "      <th>Position</th>\n",
       "      <th>timeSecs</th>\n",
       "      <th>pdsBeaten</th>\n",
       "      <th>NMFP</th>\n",
       "      <th>Runners</th>\n",
       "      <th>Age</th>\n",
       "      <th>Speed_PreviousRun</th>\n",
       "      <th>Speed_2ndPreviousRun</th>\n",
       "      <th>NMFPLTO</th>\n",
       "      <th>MarketOdds_PreviousRun</th>\n",
       "      <th>MarketOdds_2ndPreviousRun</th>\n",
       "      <th>TrainerRating</th>\n",
       "      <th>JockeyRating</th>\n",
       "      <th>daysSinceLastRun</th>\n",
       "      <th>SireRating</th>\n",
       "      <th>DamsireRating</th>\n",
       "      <th>meanRunners</th>\n",
       "      <th>Win</th>\n",
       "    </tr>\n",
       "  </thead>\n",
       "  <tbody>\n",
       "    <tr>\n",
       "      <th>0</th>\n",
       "      <td>2024-01-02 19:00:00</td>\n",
       "      <td>1935</td>\n",
       "      <td>Wolverhampton</td>\n",
       "      <td>6f 20y</td>\n",
       "      <td>1340</td>\n",
       "      <td>4972</td>\n",
       "      <td>Standard</td>\n",
       "      <td>Intervention</td>\n",
       "      <td>Michael Appleby</td>\n",
       "      <td>Aiden Brookes</td>\n",
       "      <td>1.62</td>\n",
       "      <td>2</td>\n",
       "      <td>73.750000</td>\n",
       "      <td>1.987874</td>\n",
       "      <td>0.666667</td>\n",
       "      <td>6</td>\n",
       "      <td>7</td>\n",
       "      <td>75.0</td>\n",
       "      <td>70.0</td>\n",
       "      <td>0.875000</td>\n",
       "      <td>11.03</td>\n",
       "      <td>3.60</td>\n",
       "      <td>2.377268</td>\n",
       "      <td>2.925027</td>\n",
       "      <td>7.0</td>\n",
       "      <td>2.933961</td>\n",
       "      <td>0.467149</td>\n",
       "      <td>10.25</td>\n",
       "      <td>0</td>\n",
       "    </tr>\n",
       "    <tr>\n",
       "      <th>1</th>\n",
       "      <td>2024-01-02 19:00:00</td>\n",
       "      <td>1935</td>\n",
       "      <td>Wolverhampton</td>\n",
       "      <td>6f 20y</td>\n",
       "      <td>1340</td>\n",
       "      <td>4972</td>\n",
       "      <td>Standard</td>\n",
       "      <td>Evocative Spark</td>\n",
       "      <td>Darryll Holland</td>\n",
       "      <td>Christian Howarth</td>\n",
       "      <td>7.40</td>\n",
       "      <td>3</td>\n",
       "      <td>74.129997</td>\n",
       "      <td>2.442347</td>\n",
       "      <td>0.500000</td>\n",
       "      <td>6</td>\n",
       "      <td>5</td>\n",
       "      <td>62.0</td>\n",
       "      <td>48.0</td>\n",
       "      <td>0.181818</td>\n",
       "      <td>42.67</td>\n",
       "      <td>4.19</td>\n",
       "      <td>2.401274</td>\n",
       "      <td>2.611219</td>\n",
       "      <td>13.0</td>\n",
       "      <td>1.934009</td>\n",
       "      <td>0.459547</td>\n",
       "      <td>10.25</td>\n",
       "      <td>0</td>\n",
       "    </tr>\n",
       "    <tr>\n",
       "      <th>2</th>\n",
       "      <td>2024-01-02 19:00:00</td>\n",
       "      <td>1935</td>\n",
       "      <td>Wolverhampton</td>\n",
       "      <td>6f 20y</td>\n",
       "      <td>1340</td>\n",
       "      <td>4972</td>\n",
       "      <td>Standard</td>\n",
       "      <td>Sluzewiec</td>\n",
       "      <td>Scott Dixon</td>\n",
       "      <td>Kieran O'Neill</td>\n",
       "      <td>69.12</td>\n",
       "      <td>5</td>\n",
       "      <td>74.940002</td>\n",
       "      <td>3.025291</td>\n",
       "      <td>0.166667</td>\n",
       "      <td>6</td>\n",
       "      <td>5</td>\n",
       "      <td>51.0</td>\n",
       "      <td>59.0</td>\n",
       "      <td>0.000000</td>\n",
       "      <td>141.13</td>\n",
       "      <td>86.83</td>\n",
       "      <td>2.824967</td>\n",
       "      <td>2.925073</td>\n",
       "      <td>50.0</td>\n",
       "      <td>2.411403</td>\n",
       "      <td>0.456616</td>\n",
       "      <td>8.00</td>\n",
       "      <td>0</td>\n",
       "    </tr>\n",
       "  </tbody>\n",
       "</table>\n",
       "</div>"
      ],
      "text/plain": [
       "            Race_Time  Race_ID         Course Distance  distanceYards  Prize  \\\n",
       "0 2024-01-02 19:00:00     1935  Wolverhampton   6f 20y           1340   4972   \n",
       "1 2024-01-02 19:00:00     1935  Wolverhampton   6f 20y           1340   4972   \n",
       "2 2024-01-02 19:00:00     1935  Wolverhampton   6f 20y           1340   4972   \n",
       "\n",
       "      Going            Horse          Trainer             Jockey  betfairSP  \\\n",
       "0  Standard     Intervention  Michael Appleby      Aiden Brookes       1.62   \n",
       "1  Standard  Evocative Spark  Darryll Holland  Christian Howarth       7.40   \n",
       "2  Standard        Sluzewiec      Scott Dixon     Kieran O'Neill      69.12   \n",
       "\n",
       "   Position   timeSecs  pdsBeaten      NMFP  Runners  Age  Speed_PreviousRun  \\\n",
       "0         2  73.750000   1.987874  0.666667        6    7               75.0   \n",
       "1         3  74.129997   2.442347  0.500000        6    5               62.0   \n",
       "2         5  74.940002   3.025291  0.166667        6    5               51.0   \n",
       "\n",
       "   Speed_2ndPreviousRun   NMFPLTO  MarketOdds_PreviousRun  \\\n",
       "0                  70.0  0.875000                   11.03   \n",
       "1                  48.0  0.181818                   42.67   \n",
       "2                  59.0  0.000000                  141.13   \n",
       "\n",
       "   MarketOdds_2ndPreviousRun  TrainerRating  JockeyRating  daysSinceLastRun  \\\n",
       "0                       3.60       2.377268      2.925027               7.0   \n",
       "1                       4.19       2.401274      2.611219              13.0   \n",
       "2                      86.83       2.824967      2.925073              50.0   \n",
       "\n",
       "   SireRating  DamsireRating  meanRunners  Win  \n",
       "0    2.933961       0.467149        10.25    0  \n",
       "1    1.934009       0.459547        10.25    0  \n",
       "2    2.411403       0.456616         8.00    0  "
      ]
     },
     "execution_count": 35,
     "metadata": {},
     "output_type": "execute_result"
    }
   ],
   "source": [
    "# if the position is 1, then its a winner\n",
    "traindf['Win']=(traindf['Position']==1).astype(int)\n",
    "\n",
    "traindf['Win'].mean()\n",
    "traindf.head(3)"
   ]
  },
  {
   "cell_type": "code",
   "execution_count": 36,
   "id": "d5a6959c",
   "metadata": {},
   "outputs": [
    {
     "data": {
      "image/png": "[encoded data removed]",
      "text/plain": [
       "<Figure size 640x480 with 1 Axes>"
      ]
     },
     "metadata": {},
     "output_type": "display_data"
    }
   ],
   "source": [
    "sns.boxplot(data=traindf,x='Win',y='Speed_PreviousRun')\n",
    "plt.title(\"Previous VS Winner\")\n",
    "plt.show()"
   ]
  },
  {
   "cell_type": "code",
   "execution_count": 37,
   "id": "3bd7b062",
   "metadata": {},
   "outputs": [
    {
     "data": {
      "text/html": [
       "<div>\n",
       "<style scoped>\n",
       "    .dataframe tbody tr th:only-of-type {\n",
       "        vertical-align: middle;\n",
       "    }\n",
       "\n",
       "    .dataframe tbody tr th {\n",
       "        vertical-align: top;\n",
       "    }\n",
       "\n",
       "    .dataframe thead th {\n",
       "        text-align: right;\n",
       "    }\n",
       "</style>\n",
       "<table border=\"1\" class=\"dataframe\">\n",
       "  <thead>\n",
       "    <tr style=\"text-align: right;\">\n",
       "      <th></th>\n",
       "      <th>Race_Time</th>\n",
       "      <th>Race_ID</th>\n",
       "      <th>Course</th>\n",
       "      <th>Distance</th>\n",
       "      <th>distanceYards</th>\n",
       "      <th>Prize</th>\n",
       "      <th>Going</th>\n",
       "      <th>Horse</th>\n",
       "      <th>Trainer</th>\n",
       "      <th>Jockey</th>\n",
       "      <th>betfairSP</th>\n",
       "      <th>Position</th>\n",
       "      <th>timeSecs</th>\n",
       "      <th>pdsBeaten</th>\n",
       "      <th>NMFP</th>\n",
       "      <th>Runners</th>\n",
       "      <th>Age</th>\n",
       "      <th>Speed_PreviousRun</th>\n",
       "      <th>Speed_2ndPreviousRun</th>\n",
       "      <th>NMFPLTO</th>\n",
       "      <th>MarketOdds_PreviousRun</th>\n",
       "      <th>MarketOdds_2ndPreviousRun</th>\n",
       "      <th>TrainerRating</th>\n",
       "      <th>JockeyRating</th>\n",
       "      <th>daysSinceLastRun</th>\n",
       "      <th>SireRating</th>\n",
       "      <th>DamsireRating</th>\n",
       "      <th>meanRunners</th>\n",
       "      <th>Win</th>\n",
       "    </tr>\n",
       "  </thead>\n",
       "  <tbody>\n",
       "    <tr>\n",
       "      <th>0</th>\n",
       "      <td>2024-01-02 19:00:00</td>\n",
       "      <td>1935</td>\n",
       "      <td>Wolverhampton</td>\n",
       "      <td>6f 20y</td>\n",
       "      <td>1340</td>\n",
       "      <td>4972</td>\n",
       "      <td>Standard</td>\n",
       "      <td>Intervention</td>\n",
       "      <td>Michael Appleby</td>\n",
       "      <td>Aiden Brookes</td>\n",
       "      <td>1.62</td>\n",
       "      <td>2</td>\n",
       "      <td>73.750000</td>\n",
       "      <td>1.987874</td>\n",
       "      <td>0.666667</td>\n",
       "      <td>6</td>\n",
       "      <td>7</td>\n",
       "      <td>75.0</td>\n",
       "      <td>70.0</td>\n",
       "      <td>0.875000</td>\n",
       "      <td>11.03</td>\n",
       "      <td>3.60</td>\n",
       "      <td>2.377268</td>\n",
       "      <td>2.925027</td>\n",
       "      <td>7.0</td>\n",
       "      <td>2.933961</td>\n",
       "      <td>0.467149</td>\n",
       "      <td>10.25</td>\n",
       "      <td>0</td>\n",
       "    </tr>\n",
       "    <tr>\n",
       "      <th>1</th>\n",
       "      <td>2024-01-02 19:00:00</td>\n",
       "      <td>1935</td>\n",
       "      <td>Wolverhampton</td>\n",
       "      <td>6f 20y</td>\n",
       "      <td>1340</td>\n",
       "      <td>4972</td>\n",
       "      <td>Standard</td>\n",
       "      <td>Evocative Spark</td>\n",
       "      <td>Darryll Holland</td>\n",
       "      <td>Christian Howarth</td>\n",
       "      <td>7.40</td>\n",
       "      <td>3</td>\n",
       "      <td>74.129997</td>\n",
       "      <td>2.442347</td>\n",
       "      <td>0.500000</td>\n",
       "      <td>6</td>\n",
       "      <td>5</td>\n",
       "      <td>62.0</td>\n",
       "      <td>48.0</td>\n",
       "      <td>0.181818</td>\n",
       "      <td>42.67</td>\n",
       "      <td>4.19</td>\n",
       "      <td>2.401274</td>\n",
       "      <td>2.611219</td>\n",
       "      <td>13.0</td>\n",
       "      <td>1.934009</td>\n",
       "      <td>0.459547</td>\n",
       "      <td>10.25</td>\n",
       "      <td>0</td>\n",
       "    </tr>\n",
       "    <tr>\n",
       "      <th>2</th>\n",
       "      <td>2024-01-02 19:00:00</td>\n",
       "      <td>1935</td>\n",
       "      <td>Wolverhampton</td>\n",
       "      <td>6f 20y</td>\n",
       "      <td>1340</td>\n",
       "      <td>4972</td>\n",
       "      <td>Standard</td>\n",
       "      <td>Sluzewiec</td>\n",
       "      <td>Scott Dixon</td>\n",
       "      <td>Kieran O'Neill</td>\n",
       "      <td>69.12</td>\n",
       "      <td>5</td>\n",
       "      <td>74.940002</td>\n",
       "      <td>3.025291</td>\n",
       "      <td>0.166667</td>\n",
       "      <td>6</td>\n",
       "      <td>5</td>\n",
       "      <td>51.0</td>\n",
       "      <td>59.0</td>\n",
       "      <td>0.000000</td>\n",
       "      <td>141.13</td>\n",
       "      <td>86.83</td>\n",
       "      <td>2.824967</td>\n",
       "      <td>2.925073</td>\n",
       "      <td>50.0</td>\n",
       "      <td>2.411403</td>\n",
       "      <td>0.456616</td>\n",
       "      <td>8.00</td>\n",
       "      <td>0</td>\n",
       "    </tr>\n",
       "    <tr>\n",
       "      <th>3</th>\n",
       "      <td>2024-01-02 19:00:00</td>\n",
       "      <td>1935</td>\n",
       "      <td>Wolverhampton</td>\n",
       "      <td>6f 20y</td>\n",
       "      <td>1340</td>\n",
       "      <td>4972</td>\n",
       "      <td>Standard</td>\n",
       "      <td>Muscika</td>\n",
       "      <td>David O'Meara</td>\n",
       "      <td>Mark Winn</td>\n",
       "      <td>7.72</td>\n",
       "      <td>6</td>\n",
       "      <td>75.019997</td>\n",
       "      <td>3.065258</td>\n",
       "      <td>0.000000</td>\n",
       "      <td>6</td>\n",
       "      <td>10</td>\n",
       "      <td>65.0</td>\n",
       "      <td>73.0</td>\n",
       "      <td>0.333333</td>\n",
       "      <td>8.97</td>\n",
       "      <td>12.86</td>\n",
       "      <td>2.317504</td>\n",
       "      <td>2.534689</td>\n",
       "      <td>38.0</td>\n",
       "      <td>2.639010</td>\n",
       "      <td>0.462397</td>\n",
       "      <td>10.00</td>\n",
       "      <td>0</td>\n",
       "    </tr>\n",
       "    <tr>\n",
       "      <th>4</th>\n",
       "      <td>2024-01-02 19:00:00</td>\n",
       "      <td>1935</td>\n",
       "      <td>Wolverhampton</td>\n",
       "      <td>6f 20y</td>\n",
       "      <td>1340</td>\n",
       "      <td>4972</td>\n",
       "      <td>Standard</td>\n",
       "      <td>Venturous</td>\n",
       "      <td>David Barron</td>\n",
       "      <td>David Probert</td>\n",
       "      <td>15.11</td>\n",
       "      <td>4</td>\n",
       "      <td>74.500000</td>\n",
       "      <td>2.753661</td>\n",
       "      <td>0.333333</td>\n",
       "      <td>6</td>\n",
       "      <td>11</td>\n",
       "      <td>59.0</td>\n",
       "      <td>62.0</td>\n",
       "      <td>0.090909</td>\n",
       "      <td>44.84</td>\n",
       "      <td>18.20</td>\n",
       "      <td>2.292027</td>\n",
       "      <td>2.448742</td>\n",
       "      <td>24.0</td>\n",
       "      <td>2.494198</td>\n",
       "      <td>0.450770</td>\n",
       "      <td>11.00</td>\n",
       "      <td>0</td>\n",
       "    </tr>\n",
       "    <tr>\n",
       "      <th>...</th>\n",
       "      <td>...</td>\n",
       "      <td>...</td>\n",
       "      <td>...</td>\n",
       "      <td>...</td>\n",
       "      <td>...</td>\n",
       "      <td>...</td>\n",
       "      <td>...</td>\n",
       "      <td>...</td>\n",
       "      <td>...</td>\n",
       "      <td>...</td>\n",
       "      <td>...</td>\n",
       "      <td>...</td>\n",
       "      <td>...</td>\n",
       "      <td>...</td>\n",
       "      <td>...</td>\n",
       "      <td>...</td>\n",
       "      <td>...</td>\n",
       "      <td>...</td>\n",
       "      <td>...</td>\n",
       "      <td>...</td>\n",
       "      <td>...</td>\n",
       "      <td>...</td>\n",
       "      <td>...</td>\n",
       "      <td>...</td>\n",
       "      <td>...</td>\n",
       "      <td>...</td>\n",
       "      <td>...</td>\n",
       "      <td>...</td>\n",
       "      <td>...</td>\n",
       "    </tr>\n",
       "    <tr>\n",
       "      <th>52094</th>\n",
       "      <td>2024-12-31 15:22:00</td>\n",
       "      <td>56178</td>\n",
       "      <td>Lingfield</td>\n",
       "      <td>1m 4f</td>\n",
       "      <td>2640</td>\n",
       "      <td>4711</td>\n",
       "      <td>Standard</td>\n",
       "      <td>Fullforward</td>\n",
       "      <td>Michael Madgwick</td>\n",
       "      <td>William Carson</td>\n",
       "      <td>26.24</td>\n",
       "      <td>3</td>\n",
       "      <td>154.220001</td>\n",
       "      <td>1.998096</td>\n",
       "      <td>0.727273</td>\n",
       "      <td>11</td>\n",
       "      <td>4</td>\n",
       "      <td>56.0</td>\n",
       "      <td>43.0</td>\n",
       "      <td>0.833333</td>\n",
       "      <td>9.04</td>\n",
       "      <td>13.23</td>\n",
       "      <td>2.968319</td>\n",
       "      <td>2.767347</td>\n",
       "      <td>57.0</td>\n",
       "      <td>2.718093</td>\n",
       "      <td>0.480990</td>\n",
       "      <td>8.75</td>\n",
       "      <td>0</td>\n",
       "    </tr>\n",
       "    <tr>\n",
       "      <th>52095</th>\n",
       "      <td>2024-12-31 15:22:00</td>\n",
       "      <td>56178</td>\n",
       "      <td>Lingfield</td>\n",
       "      <td>1m 4f</td>\n",
       "      <td>2640</td>\n",
       "      <td>4711</td>\n",
       "      <td>Standard</td>\n",
       "      <td>Pablo Prince</td>\n",
       "      <td>Karen Jewell</td>\n",
       "      <td>Luke Morris</td>\n",
       "      <td>12.00</td>\n",
       "      <td>7</td>\n",
       "      <td>155.119995</td>\n",
       "      <td>2.547490</td>\n",
       "      <td>0.363636</td>\n",
       "      <td>11</td>\n",
       "      <td>6</td>\n",
       "      <td>45.0</td>\n",
       "      <td>55.0</td>\n",
       "      <td>0.500000</td>\n",
       "      <td>48.38</td>\n",
       "      <td>5.09</td>\n",
       "      <td>3.233067</td>\n",
       "      <td>2.457842</td>\n",
       "      <td>40.0</td>\n",
       "      <td>3.019927</td>\n",
       "      <td>0.449697</td>\n",
       "      <td>11.50</td>\n",
       "      <td>0</td>\n",
       "    </tr>\n",
       "    <tr>\n",
       "      <th>52096</th>\n",
       "      <td>2024-12-31 15:22:00</td>\n",
       "      <td>56178</td>\n",
       "      <td>Lingfield</td>\n",
       "      <td>1m 4f</td>\n",
       "      <td>2640</td>\n",
       "      <td>4711</td>\n",
       "      <td>Standard</td>\n",
       "      <td>Paradoxical</td>\n",
       "      <td>Jennie Candlish</td>\n",
       "      <td>George Wood</td>\n",
       "      <td>2.27</td>\n",
       "      <td>1</td>\n",
       "      <td>153.160004</td>\n",
       "      <td>0.000000</td>\n",
       "      <td>0.909091</td>\n",
       "      <td>11</td>\n",
       "      <td>3</td>\n",
       "      <td>71.0</td>\n",
       "      <td>58.0</td>\n",
       "      <td>0.800000</td>\n",
       "      <td>6.03</td>\n",
       "      <td>7.12</td>\n",
       "      <td>2.554826</td>\n",
       "      <td>2.555626</td>\n",
       "      <td>5.0</td>\n",
       "      <td>2.584142</td>\n",
       "      <td>0.450076</td>\n",
       "      <td>10.50</td>\n",
       "      <td>1</td>\n",
       "    </tr>\n",
       "    <tr>\n",
       "      <th>52097</th>\n",
       "      <td>2024-12-31 15:22:00</td>\n",
       "      <td>56178</td>\n",
       "      <td>Lingfield</td>\n",
       "      <td>1m 4f</td>\n",
       "      <td>2640</td>\n",
       "      <td>4711</td>\n",
       "      <td>Standard</td>\n",
       "      <td>Keen Interest</td>\n",
       "      <td>Alice Haynes</td>\n",
       "      <td>Kieran O'Neill</td>\n",
       "      <td>48.97</td>\n",
       "      <td>11</td>\n",
       "      <td>159.440002</td>\n",
       "      <td>3.654547</td>\n",
       "      <td>0.000000</td>\n",
       "      <td>11</td>\n",
       "      <td>3</td>\n",
       "      <td>53.0</td>\n",
       "      <td>51.0</td>\n",
       "      <td>0.400000</td>\n",
       "      <td>26.57</td>\n",
       "      <td>22.16</td>\n",
       "      <td>2.443137</td>\n",
       "      <td>2.917672</td>\n",
       "      <td>15.0</td>\n",
       "      <td>2.632082</td>\n",
       "      <td>0.456602</td>\n",
       "      <td>10.75</td>\n",
       "      <td>0</td>\n",
       "    </tr>\n",
       "    <tr>\n",
       "      <th>52098</th>\n",
       "      <td>2024-12-31 15:22:00</td>\n",
       "      <td>56178</td>\n",
       "      <td>Lingfield</td>\n",
       "      <td>1m 4f</td>\n",
       "      <td>2640</td>\n",
       "      <td>4711</td>\n",
       "      <td>Standard</td>\n",
       "      <td>Gentle Fire</td>\n",
       "      <td>Tony Carroll</td>\n",
       "      <td>Jack Doughty</td>\n",
       "      <td>163.88</td>\n",
       "      <td>9</td>\n",
       "      <td>156.250000</td>\n",
       "      <td>2.971696</td>\n",
       "      <td>0.181818</td>\n",
       "      <td>11</td>\n",
       "      <td>8</td>\n",
       "      <td>51.0</td>\n",
       "      <td>55.0</td>\n",
       "      <td>0.125000</td>\n",
       "      <td>55.00</td>\n",
       "      <td>13.45</td>\n",
       "      <td>2.638076</td>\n",
       "      <td>2.428414</td>\n",
       "      <td>49.0</td>\n",
       "      <td>3.274415</td>\n",
       "      <td>0.454509</td>\n",
       "      <td>9.50</td>\n",
       "      <td>0</td>\n",
       "    </tr>\n",
       "  </tbody>\n",
       "</table>\n",
       "<p>52099 rows × 29 columns</p>\n",
       "</div>"
      ],
      "text/plain": [
       "                Race_Time  Race_ID         Course Distance  distanceYards  \\\n",
       "0     2024-01-02 19:00:00     1935  Wolverhampton   6f 20y           1340   \n",
       "1     2024-01-02 19:00:00     1935  Wolverhampton   6f 20y           1340   \n",
       "2     2024-01-02 19:00:00     1935  Wolverhampton   6f 20y           1340   \n",
       "3     2024-01-02 19:00:00     1935  Wolverhampton   6f 20y           1340   \n",
       "4     2024-01-02 19:00:00     1935  Wolverhampton   6f 20y           1340   \n",
       "...                   ...      ...            ...      ...            ...   \n",
       "52094 2024-12-31 15:22:00    56178      Lingfield    1m 4f           2640   \n",
       "52095 2024-12-31 15:22:00    56178      Lingfield    1m 4f           2640   \n",
       "52096 2024-12-31 15:22:00    56178      Lingfield    1m 4f           2640   \n",
       "52097 2024-12-31 15:22:00    56178      Lingfield    1m 4f           2640   \n",
       "52098 2024-12-31 15:22:00    56178      Lingfield    1m 4f           2640   \n",
       "\n",
       "       Prize     Going            Horse           Trainer             Jockey  \\\n",
       "0       4972  Standard     Intervention   Michael Appleby      Aiden Brookes   \n",
       "1       4972  Standard  Evocative Spark   Darryll Holland  Christian Howarth   \n",
       "2       4972  Standard        Sluzewiec       Scott Dixon     Kieran O'Neill   \n",
       "3       4972  Standard          Muscika     David O'Meara          Mark Winn   \n",
       "4       4972  Standard        Venturous      David Barron      David Probert   \n",
       "...      ...       ...              ...               ...                ...   \n",
       "52094   4711  Standard      Fullforward  Michael Madgwick     William Carson   \n",
       "52095   4711  Standard     Pablo Prince      Karen Jewell        Luke Morris   \n",
       "52096   4711  Standard      Paradoxical   Jennie Candlish        George Wood   \n",
       "52097   4711  Standard    Keen Interest      Alice Haynes     Kieran O'Neill   \n",
       "52098   4711  Standard      Gentle Fire      Tony Carroll       Jack Doughty   \n",
       "\n",
       "       betfairSP  Position    timeSecs  pdsBeaten      NMFP  Runners  Age  \\\n",
       "0           1.62         2   73.750000   1.987874  0.666667        6    7   \n",
       "1           7.40         3   74.129997   2.442347  0.500000        6    5   \n",
       "2          69.12         5   74.940002   3.025291  0.166667        6    5   \n",
       "3           7.72         6   75.019997   3.065258  0.000000        6   10   \n",
       "4          15.11         4   74.500000   2.753661  0.333333        6   11   \n",
       "...          ...       ...         ...        ...       ...      ...  ...   \n",
       "52094      26.24         3  154.220001   1.998096  0.727273       11    4   \n",
       "52095      12.00         7  155.119995   2.547490  0.363636       11    6   \n",
       "52096       2.27         1  153.160004   0.000000  0.909091       11    3   \n",
       "52097      48.97        11  159.440002   3.654547  0.000000       11    3   \n",
       "52098     163.88         9  156.250000   2.971696  0.181818       11    8   \n",
       "\n",
       "       Speed_PreviousRun  Speed_2ndPreviousRun   NMFPLTO  \\\n",
       "0                   75.0                  70.0  0.875000   \n",
       "1                   62.0                  48.0  0.181818   \n",
       "2                   51.0                  59.0  0.000000   \n",
       "3                   65.0                  73.0  0.333333   \n",
       "4                   59.0                  62.0  0.090909   \n",
       "...                  ...                   ...       ...   \n",
       "52094               56.0                  43.0  0.833333   \n",
       "52095               45.0                  55.0  0.500000   \n",
       "52096               71.0                  58.0  0.800000   \n",
       "52097               53.0                  51.0  0.400000   \n",
       "52098               51.0                  55.0  0.125000   \n",
       "\n",
       "       MarketOdds_PreviousRun  MarketOdds_2ndPreviousRun  TrainerRating  \\\n",
       "0                       11.03                       3.60       2.377268   \n",
       "1                       42.67                       4.19       2.401274   \n",
       "2                      141.13                      86.83       2.824967   \n",
       "3                        8.97                      12.86       2.317504   \n",
       "4                       44.84                      18.20       2.292027   \n",
       "...                       ...                        ...            ...   \n",
       "52094                    9.04                      13.23       2.968319   \n",
       "52095                   48.38                       5.09       3.233067   \n",
       "52096                    6.03                       7.12       2.554826   \n",
       "52097                   26.57                      22.16       2.443137   \n",
       "52098                   55.00                      13.45       2.638076   \n",
       "\n",
       "       JockeyRating  daysSinceLastRun  SireRating  DamsireRating  meanRunners  \\\n",
       "0          2.925027               7.0    2.933961       0.467149        10.25   \n",
       "1          2.611219              13.0    1.934009       0.459547        10.25   \n",
       "2          2.925073              50.0    2.411403       0.456616         8.00   \n",
       "3          2.534689              38.0    2.639010       0.462397        10.00   \n",
       "4          2.448742              24.0    2.494198       0.450770        11.00   \n",
       "...             ...               ...         ...            ...          ...   \n",
       "52094      2.767347              57.0    2.718093       0.480990         8.75   \n",
       "52095      2.457842              40.0    3.019927       0.449697        11.50   \n",
       "52096      2.555626               5.0    2.584142       0.450076        10.50   \n",
       "52097      2.917672              15.0    2.632082       0.456602        10.75   \n",
       "52098      2.428414              49.0    3.274415       0.454509         9.50   \n",
       "\n",
       "       Win  \n",
       "0        0  \n",
       "1        0  \n",
       "2        0  \n",
       "3        0  \n",
       "4        0  \n",
       "...    ...  \n",
       "52094    0  \n",
       "52095    0  \n",
       "52096    1  \n",
       "52097    0  \n",
       "52098    0  \n",
       "\n",
       "[52099 rows x 29 columns]"
      ]
     },
     "execution_count": 37,
     "metadata": {},
     "output_type": "execute_result"
    }
   ],
   "source": [
    "traindf"
   ]
  },
  {
   "cell_type": "markdown",
   "id": "83d901c1",
   "metadata": {},
   "source": [
    "__Skewness of the graph__"
   ]
  },
  {
   "cell_type": "code",
   "execution_count": 38,
   "id": "2a6820c1",
   "metadata": {},
   "outputs": [
    {
     "data": {
      "image/png": "[encoded data removed]",
      "text/plain": [
       "<Figure size 1200x800 with 4 Axes>"
      ]
     },
     "metadata": {},
     "output_type": "display_data"
    }
   ],
   "source": [
    "numeric_cols = ['Speed_PreviousRun', 'MarketOdds_PreviousRun', 'TrainerRating', 'Prize']\n",
    "traindf[numeric_cols].hist(figsize=(12, 8), bins=30)\n",
    "plt.tight_layout()\n",
    "plt.show()\n"
   ]
  },
  {
   "cell_type": "code",
   "execution_count": 39,
   "id": "08b26dde",
   "metadata": {},
   "outputs": [],
   "source": [
    "traindf['MarketOdds_PreviousRun'].skew()  # > 0 means right-skewed\n",
    "traindf['Prize'].skew()\n",
    "\n",
    "traindf['log_MarketOdds_PreviousRun'] = np.log1p(traindf['MarketOdds_PreviousRun'])\n",
    "testdf['log_MarketOdds_PreviousRun'] = np.log1p(testdf['MarketOdds_PreviousRun'])\n",
    "\n"
   ]
  },
  {
   "cell_type": "code",
   "execution_count": 40,
   "id": "52d165a9",
   "metadata": {},
   "outputs": [
    {
     "data": {
      "text/html": [
       "<div>\n",
       "<style scoped>\n",
       "    .dataframe tbody tr th:only-of-type {\n",
       "        vertical-align: middle;\n",
       "    }\n",
       "\n",
       "    .dataframe tbody tr th {\n",
       "        vertical-align: top;\n",
       "    }\n",
       "\n",
       "    .dataframe thead th {\n",
       "        text-align: right;\n",
       "    }\n",
       "</style>\n",
       "<table border=\"1\" class=\"dataframe\">\n",
       "  <thead>\n",
       "    <tr style=\"text-align: right;\">\n",
       "      <th></th>\n",
       "      <th>Race_Time</th>\n",
       "      <th>Race_ID</th>\n",
       "      <th>Course</th>\n",
       "      <th>Distance</th>\n",
       "      <th>distanceYards</th>\n",
       "      <th>Prize</th>\n",
       "      <th>Going</th>\n",
       "      <th>Horse</th>\n",
       "      <th>Trainer</th>\n",
       "      <th>Jockey</th>\n",
       "      <th>betfairSP</th>\n",
       "      <th>Position</th>\n",
       "      <th>timeSecs</th>\n",
       "      <th>pdsBeaten</th>\n",
       "      <th>NMFP</th>\n",
       "      <th>Runners</th>\n",
       "      <th>Age</th>\n",
       "      <th>Speed_PreviousRun</th>\n",
       "      <th>Speed_2ndPreviousRun</th>\n",
       "      <th>NMFPLTO</th>\n",
       "      <th>MarketOdds_PreviousRun</th>\n",
       "      <th>MarketOdds_2ndPreviousRun</th>\n",
       "      <th>TrainerRating</th>\n",
       "      <th>JockeyRating</th>\n",
       "      <th>daysSinceLastRun</th>\n",
       "      <th>SireRating</th>\n",
       "      <th>DamsireRating</th>\n",
       "      <th>meanRunners</th>\n",
       "      <th>Win</th>\n",
       "      <th>log_MarketOdds_PreviousRun</th>\n",
       "    </tr>\n",
       "  </thead>\n",
       "  <tbody>\n",
       "    <tr>\n",
       "      <th>0</th>\n",
       "      <td>2024-01-02 19:00:00</td>\n",
       "      <td>1935</td>\n",
       "      <td>Wolverhampton</td>\n",
       "      <td>6f 20y</td>\n",
       "      <td>1340</td>\n",
       "      <td>4972</td>\n",
       "      <td>Standard</td>\n",
       "      <td>Intervention</td>\n",
       "      <td>Michael Appleby</td>\n",
       "      <td>Aiden Brookes</td>\n",
       "      <td>1.62</td>\n",
       "      <td>2</td>\n",
       "      <td>73.750000</td>\n",
       "      <td>1.987874</td>\n",
       "      <td>0.666667</td>\n",
       "      <td>6</td>\n",
       "      <td>7</td>\n",
       "      <td>75.0</td>\n",
       "      <td>70.0</td>\n",
       "      <td>0.875000</td>\n",
       "      <td>11.03</td>\n",
       "      <td>3.60</td>\n",
       "      <td>2.377268</td>\n",
       "      <td>2.925027</td>\n",
       "      <td>7.0</td>\n",
       "      <td>2.933961</td>\n",
       "      <td>0.467149</td>\n",
       "      <td>10.25</td>\n",
       "      <td>0</td>\n",
       "      <td>2.487404</td>\n",
       "    </tr>\n",
       "    <tr>\n",
       "      <th>1</th>\n",
       "      <td>2024-01-02 19:00:00</td>\n",
       "      <td>1935</td>\n",
       "      <td>Wolverhampton</td>\n",
       "      <td>6f 20y</td>\n",
       "      <td>1340</td>\n",
       "      <td>4972</td>\n",
       "      <td>Standard</td>\n",
       "      <td>Evocative Spark</td>\n",
       "      <td>Darryll Holland</td>\n",
       "      <td>Christian Howarth</td>\n",
       "      <td>7.40</td>\n",
       "      <td>3</td>\n",
       "      <td>74.129997</td>\n",
       "      <td>2.442347</td>\n",
       "      <td>0.500000</td>\n",
       "      <td>6</td>\n",
       "      <td>5</td>\n",
       "      <td>62.0</td>\n",
       "      <td>48.0</td>\n",
       "      <td>0.181818</td>\n",
       "      <td>42.67</td>\n",
       "      <td>4.19</td>\n",
       "      <td>2.401274</td>\n",
       "      <td>2.611219</td>\n",
       "      <td>13.0</td>\n",
       "      <td>1.934009</td>\n",
       "      <td>0.459547</td>\n",
       "      <td>10.25</td>\n",
       "      <td>0</td>\n",
       "      <td>3.776661</td>\n",
       "    </tr>\n",
       "    <tr>\n",
       "      <th>2</th>\n",
       "      <td>2024-01-02 19:00:00</td>\n",
       "      <td>1935</td>\n",
       "      <td>Wolverhampton</td>\n",
       "      <td>6f 20y</td>\n",
       "      <td>1340</td>\n",
       "      <td>4972</td>\n",
       "      <td>Standard</td>\n",
       "      <td>Sluzewiec</td>\n",
       "      <td>Scott Dixon</td>\n",
       "      <td>Kieran O'Neill</td>\n",
       "      <td>69.12</td>\n",
       "      <td>5</td>\n",
       "      <td>74.940002</td>\n",
       "      <td>3.025291</td>\n",
       "      <td>0.166667</td>\n",
       "      <td>6</td>\n",
       "      <td>5</td>\n",
       "      <td>51.0</td>\n",
       "      <td>59.0</td>\n",
       "      <td>0.000000</td>\n",
       "      <td>141.13</td>\n",
       "      <td>86.83</td>\n",
       "      <td>2.824967</td>\n",
       "      <td>2.925073</td>\n",
       "      <td>50.0</td>\n",
       "      <td>2.411403</td>\n",
       "      <td>0.456616</td>\n",
       "      <td>8.00</td>\n",
       "      <td>0</td>\n",
       "      <td>4.956742</td>\n",
       "    </tr>\n",
       "    <tr>\n",
       "      <th>3</th>\n",
       "      <td>2024-01-02 19:00:00</td>\n",
       "      <td>1935</td>\n",
       "      <td>Wolverhampton</td>\n",
       "      <td>6f 20y</td>\n",
       "      <td>1340</td>\n",
       "      <td>4972</td>\n",
       "      <td>Standard</td>\n",
       "      <td>Muscika</td>\n",
       "      <td>David O'Meara</td>\n",
       "      <td>Mark Winn</td>\n",
       "      <td>7.72</td>\n",
       "      <td>6</td>\n",
       "      <td>75.019997</td>\n",
       "      <td>3.065258</td>\n",
       "      <td>0.000000</td>\n",
       "      <td>6</td>\n",
       "      <td>10</td>\n",
       "      <td>65.0</td>\n",
       "      <td>73.0</td>\n",
       "      <td>0.333333</td>\n",
       "      <td>8.97</td>\n",
       "      <td>12.86</td>\n",
       "      <td>2.317504</td>\n",
       "      <td>2.534689</td>\n",
       "      <td>38.0</td>\n",
       "      <td>2.639010</td>\n",
       "      <td>0.462397</td>\n",
       "      <td>10.00</td>\n",
       "      <td>0</td>\n",
       "      <td>2.299581</td>\n",
       "    </tr>\n",
       "    <tr>\n",
       "      <th>4</th>\n",
       "      <td>2024-01-02 19:00:00</td>\n",
       "      <td>1935</td>\n",
       "      <td>Wolverhampton</td>\n",
       "      <td>6f 20y</td>\n",
       "      <td>1340</td>\n",
       "      <td>4972</td>\n",
       "      <td>Standard</td>\n",
       "      <td>Venturous</td>\n",
       "      <td>David Barron</td>\n",
       "      <td>David Probert</td>\n",
       "      <td>15.11</td>\n",
       "      <td>4</td>\n",
       "      <td>74.500000</td>\n",
       "      <td>2.753661</td>\n",
       "      <td>0.333333</td>\n",
       "      <td>6</td>\n",
       "      <td>11</td>\n",
       "      <td>59.0</td>\n",
       "      <td>62.0</td>\n",
       "      <td>0.090909</td>\n",
       "      <td>44.84</td>\n",
       "      <td>18.20</td>\n",
       "      <td>2.292027</td>\n",
       "      <td>2.448742</td>\n",
       "      <td>24.0</td>\n",
       "      <td>2.494198</td>\n",
       "      <td>0.450770</td>\n",
       "      <td>11.00</td>\n",
       "      <td>0</td>\n",
       "      <td>3.825157</td>\n",
       "    </tr>\n",
       "  </tbody>\n",
       "</table>\n",
       "</div>"
      ],
      "text/plain": [
       "            Race_Time  Race_ID         Course Distance  distanceYards  Prize  \\\n",
       "0 2024-01-02 19:00:00     1935  Wolverhampton   6f 20y           1340   4972   \n",
       "1 2024-01-02 19:00:00     1935  Wolverhampton   6f 20y           1340   4972   \n",
       "2 2024-01-02 19:00:00     1935  Wolverhampton   6f 20y           1340   4972   \n",
       "3 2024-01-02 19:00:00     1935  Wolverhampton   6f 20y           1340   4972   \n",
       "4 2024-01-02 19:00:00     1935  Wolverhampton   6f 20y           1340   4972   \n",
       "\n",
       "      Going            Horse          Trainer             Jockey  betfairSP  \\\n",
       "0  Standard     Intervention  Michael Appleby      Aiden Brookes       1.62   \n",
       "1  Standard  Evocative Spark  Darryll Holland  Christian Howarth       7.40   \n",
       "2  Standard        Sluzewiec      Scott Dixon     Kieran O'Neill      69.12   \n",
       "3  Standard          Muscika    David O'Meara          Mark Winn       7.72   \n",
       "4  Standard        Venturous     David Barron      David Probert      15.11   \n",
       "\n",
       "   Position   timeSecs  pdsBeaten      NMFP  Runners  Age  Speed_PreviousRun  \\\n",
       "0         2  73.750000   1.987874  0.666667        6    7               75.0   \n",
       "1         3  74.129997   2.442347  0.500000        6    5               62.0   \n",
       "2         5  74.940002   3.025291  0.166667        6    5               51.0   \n",
       "3         6  75.019997   3.065258  0.000000        6   10               65.0   \n",
       "4         4  74.500000   2.753661  0.333333        6   11               59.0   \n",
       "\n",
       "   Speed_2ndPreviousRun   NMFPLTO  MarketOdds_PreviousRun  \\\n",
       "0                  70.0  0.875000                   11.03   \n",
       "1                  48.0  0.181818                   42.67   \n",
       "2                  59.0  0.000000                  141.13   \n",
       "3                  73.0  0.333333                    8.97   \n",
       "4                  62.0  0.090909                   44.84   \n",
       "\n",
       "   MarketOdds_2ndPreviousRun  TrainerRating  JockeyRating  daysSinceLastRun  \\\n",
       "0                       3.60       2.377268      2.925027               7.0   \n",
       "1                       4.19       2.401274      2.611219              13.0   \n",
       "2                      86.83       2.824967      2.925073              50.0   \n",
       "3                      12.86       2.317504      2.534689              38.0   \n",
       "4                      18.20       2.292027      2.448742              24.0   \n",
       "\n",
       "   SireRating  DamsireRating  meanRunners  Win  log_MarketOdds_PreviousRun  \n",
       "0    2.933961       0.467149        10.25    0                    2.487404  \n",
       "1    1.934009       0.459547        10.25    0                    3.776661  \n",
       "2    2.411403       0.456616         8.00    0                    4.956742  \n",
       "3    2.639010       0.462397        10.00    0                    2.299581  \n",
       "4    2.494198       0.450770        11.00    0                    3.825157  "
      ]
     },
     "execution_count": 40,
     "metadata": {},
     "output_type": "execute_result"
    }
   ],
   "source": [
    "traindf.head(5)"
   ]
  },
  {
   "cell_type": "markdown",
   "id": "dec31750",
   "metadata": {},
   "source": [
    "__Average speed run from previous and 2nd previous run__"
   ]
  },
  {
   "cell_type": "code",
   "execution_count": 41,
   "id": "74438f16",
   "metadata": {},
   "outputs": [],
   "source": [
    "traindf['AvgSpeed']=(traindf['Speed_PreviousRun'] + traindf['Speed_2ndPreviousRun']) / 2"
   ]
  },
  {
   "cell_type": "markdown",
   "id": "011d5327",
   "metadata": {},
   "source": [
    "__Correlation Heatmap__"
   ]
  },
  {
   "cell_type": "code",
   "execution_count": 42,
   "id": "e76234ed",
   "metadata": {},
   "outputs": [
    {
     "data": {
      "image/png": "[encoded data removed]",
      "text/plain": [
       "<Figure size 1800x600 with 2 Axes>"
      ]
     },
     "metadata": {},
     "output_type": "display_data"
    }
   ],
   "source": [
    "import seaborn as sns\n",
    "\n",
    "\n",
    "# eliminating non numerical columns\n",
    "nonnumeric_cols=['Race_ID','Course','Distance','Going','Horse','Trainer','Jockey','log_MarketOdds_PreviousRun']\n",
    "numerdf=traindf.drop(columns=nonnumeric_cols)\n",
    "\n",
    "filteredf=numerdf.select_dtypes(include='number')\n",
    "corr=filteredf.corr()\n",
    "\n",
    "plt.figure(figsize=(18,6))\n",
    "sns.heatmap(corr, annot=True, fmt='.2f',cmap='crest')\n",
    "plt.title('Correlation Heatmap')\n",
    "plt.show()\n",
    "\n"
   ]
  },
  {
   "cell_type": "markdown",
   "id": "53144034",
   "metadata": {},
   "source": [
    "__Distrbutions of Horses Per Race__"
   ]
  },
  {
   "cell_type": "code",
   "execution_count": 43,
   "id": "4c135e2e",
   "metadata": {},
   "outputs": [
    {
     "data": {
      "text/plain": [
       "Text(0.5, 1.0, 'Distribution of Field Sizes (Horses per Race)')"
      ]
     },
     "execution_count": 43,
     "metadata": {},
     "output_type": "execute_result"
    },
    {
     "data": {
      "image/png": "[encoded data removed]",
      "text/plain": [
       "<Figure size 640x480 with 1 Axes>"
      ]
     },
     "metadata": {},
     "output_type": "display_data"
    }
   ],
   "source": [
    "traindf['Runners'].hist(bins=20)\n",
    "plt.title(\"Distribution of Field Sizes (Horses per Race)\")\n"
   ]
  },
  {
   "cell_type": "code",
   "execution_count": 44,
   "id": "06adc16f",
   "metadata": {},
   "outputs": [
    {
     "data": {
      "text/html": [
       "<div>\n",
       "<style scoped>\n",
       "    .dataframe tbody tr th:only-of-type {\n",
       "        vertical-align: middle;\n",
       "    }\n",
       "\n",
       "    .dataframe tbody tr th {\n",
       "        vertical-align: top;\n",
       "    }\n",
       "\n",
       "    .dataframe thead th {\n",
       "        text-align: right;\n",
       "    }\n",
       "</style>\n",
       "<table border=\"1\" class=\"dataframe\">\n",
       "  <thead>\n",
       "    <tr style=\"text-align: right;\">\n",
       "      <th></th>\n",
       "      <th>Race_Time</th>\n",
       "      <th>Race_ID</th>\n",
       "      <th>Course</th>\n",
       "      <th>Distance</th>\n",
       "      <th>distanceYards</th>\n",
       "      <th>Prize</th>\n",
       "      <th>Going</th>\n",
       "      <th>Horse</th>\n",
       "      <th>Trainer</th>\n",
       "      <th>Jockey</th>\n",
       "      <th>betfairSP</th>\n",
       "      <th>Position</th>\n",
       "      <th>timeSecs</th>\n",
       "      <th>pdsBeaten</th>\n",
       "      <th>NMFP</th>\n",
       "      <th>Runners</th>\n",
       "      <th>Age</th>\n",
       "      <th>Speed_PreviousRun</th>\n",
       "      <th>Speed_2ndPreviousRun</th>\n",
       "      <th>NMFPLTO</th>\n",
       "      <th>MarketOdds_PreviousRun</th>\n",
       "      <th>MarketOdds_2ndPreviousRun</th>\n",
       "      <th>TrainerRating</th>\n",
       "      <th>JockeyRating</th>\n",
       "      <th>daysSinceLastRun</th>\n",
       "      <th>SireRating</th>\n",
       "      <th>DamsireRating</th>\n",
       "      <th>meanRunners</th>\n",
       "      <th>Win</th>\n",
       "      <th>log_MarketOdds_PreviousRun</th>\n",
       "      <th>AvgSpeed</th>\n",
       "    </tr>\n",
       "  </thead>\n",
       "  <tbody>\n",
       "    <tr>\n",
       "      <th>0</th>\n",
       "      <td>2024-01-02 19:00:00</td>\n",
       "      <td>1935</td>\n",
       "      <td>Wolverhampton</td>\n",
       "      <td>6f 20y</td>\n",
       "      <td>1340</td>\n",
       "      <td>4972</td>\n",
       "      <td>Standard</td>\n",
       "      <td>Intervention</td>\n",
       "      <td>Michael Appleby</td>\n",
       "      <td>Aiden Brookes</td>\n",
       "      <td>1.62</td>\n",
       "      <td>2</td>\n",
       "      <td>73.750000</td>\n",
       "      <td>1.987874</td>\n",
       "      <td>0.666667</td>\n",
       "      <td>6</td>\n",
       "      <td>7</td>\n",
       "      <td>75.0</td>\n",
       "      <td>70.0</td>\n",
       "      <td>0.875000</td>\n",
       "      <td>11.03</td>\n",
       "      <td>3.60</td>\n",
       "      <td>2.377268</td>\n",
       "      <td>2.925027</td>\n",
       "      <td>7.0</td>\n",
       "      <td>2.933961</td>\n",
       "      <td>0.467149</td>\n",
       "      <td>10.25</td>\n",
       "      <td>0</td>\n",
       "      <td>2.487404</td>\n",
       "      <td>72.5</td>\n",
       "    </tr>\n",
       "    <tr>\n",
       "      <th>1</th>\n",
       "      <td>2024-01-02 19:00:00</td>\n",
       "      <td>1935</td>\n",
       "      <td>Wolverhampton</td>\n",
       "      <td>6f 20y</td>\n",
       "      <td>1340</td>\n",
       "      <td>4972</td>\n",
       "      <td>Standard</td>\n",
       "      <td>Evocative Spark</td>\n",
       "      <td>Darryll Holland</td>\n",
       "      <td>Christian Howarth</td>\n",
       "      <td>7.40</td>\n",
       "      <td>3</td>\n",
       "      <td>74.129997</td>\n",
       "      <td>2.442347</td>\n",
       "      <td>0.500000</td>\n",
       "      <td>6</td>\n",
       "      <td>5</td>\n",
       "      <td>62.0</td>\n",
       "      <td>48.0</td>\n",
       "      <td>0.181818</td>\n",
       "      <td>42.67</td>\n",
       "      <td>4.19</td>\n",
       "      <td>2.401274</td>\n",
       "      <td>2.611219</td>\n",
       "      <td>13.0</td>\n",
       "      <td>1.934009</td>\n",
       "      <td>0.459547</td>\n",
       "      <td>10.25</td>\n",
       "      <td>0</td>\n",
       "      <td>3.776661</td>\n",
       "      <td>55.0</td>\n",
       "    </tr>\n",
       "  </tbody>\n",
       "</table>\n",
       "</div>"
      ],
      "text/plain": [
       "            Race_Time  Race_ID         Course Distance  distanceYards  Prize  \\\n",
       "0 2024-01-02 19:00:00     1935  Wolverhampton   6f 20y           1340   4972   \n",
       "1 2024-01-02 19:00:00     1935  Wolverhampton   6f 20y           1340   4972   \n",
       "\n",
       "      Going            Horse          Trainer             Jockey  betfairSP  \\\n",
       "0  Standard     Intervention  Michael Appleby      Aiden Brookes       1.62   \n",
       "1  Standard  Evocative Spark  Darryll Holland  Christian Howarth       7.40   \n",
       "\n",
       "   Position   timeSecs  pdsBeaten      NMFP  Runners  Age  Speed_PreviousRun  \\\n",
       "0         2  73.750000   1.987874  0.666667        6    7               75.0   \n",
       "1         3  74.129997   2.442347  0.500000        6    5               62.0   \n",
       "\n",
       "   Speed_2ndPreviousRun   NMFPLTO  MarketOdds_PreviousRun  \\\n",
       "0                  70.0  0.875000                   11.03   \n",
       "1                  48.0  0.181818                   42.67   \n",
       "\n",
       "   MarketOdds_2ndPreviousRun  TrainerRating  JockeyRating  daysSinceLastRun  \\\n",
       "0                       3.60       2.377268      2.925027               7.0   \n",
       "1                       4.19       2.401274      2.611219              13.0   \n",
       "\n",
       "   SireRating  DamsireRating  meanRunners  Win  log_MarketOdds_PreviousRun  \\\n",
       "0    2.933961       0.467149        10.25    0                    2.487404   \n",
       "1    1.934009       0.459547        10.25    0                    3.776661   \n",
       "\n",
       "   AvgSpeed  \n",
       "0      72.5  \n",
       "1      55.0  "
      ]
     },
     "execution_count": 44,
     "metadata": {},
     "output_type": "execute_result"
    }
   ],
   "source": [
    "traindf.head(2)"
   ]
  },
  {
   "cell_type": "markdown",
   "id": "5f3b109f",
   "metadata": {},
   "source": [
    "__Winners Data Exploration__"
   ]
  },
  {
   "cell_type": "code",
   "execution_count": 45,
   "id": "6c77f010",
   "metadata": {},
   "outputs": [
    {
     "name": "stderr",
     "output_type": "stream",
     "text": [
      "C:\\Users\\sanja\\AppData\\Local\\Temp\\ipykernel_14748\\797173855.py:6: FutureWarning:\n",
      "\n",
      "\n",
      "\n",
      "Passing `palette` without assigning `hue` is deprecated and will be removed in v0.14.0. Assign the `y` variable to `hue` and set `legend=False` for the same effect.\n",
      "\n",
      "\n"
     ]
    },
    {
     "data": {
      "image/png": "[encoded data removed]",
      "text/plain": [
       "<Figure size 800x600 with 1 Axes>"
      ]
     },
     "metadata": {},
     "output_type": "display_data"
    }
   ],
   "source": [
    "winners=traindf[traindf['Win']==1]\n",
    "\n",
    "horsecnt=winners['Horse'].value_counts().head(15)\n",
    "\n",
    "plt.figure(figsize=(8,6))\n",
    "sns.barplot(x=horsecnt.values,y=horsecnt.index,palette='flare')\n",
    "plt.xlabel('Number of Wins')\n",
    "plt.ylabel('Horse')\n",
    "plt.title('Top 15 most winners')\n",
    "plt.show()\n"
   ]
  },
  {
   "cell_type": "markdown",
   "id": "2b832360",
   "metadata": {},
   "source": [
    "__Age Group of most winner__"
   ]
  },
  {
   "cell_type": "code",
   "execution_count": 46,
   "id": "e4541213",
   "metadata": {},
   "outputs": [
    {
     "data": {
      "application/vnd.plotly.v1+json": {
       "config": {
        "plotlyServerURL": "https://plot.ly"
       },
       "data": [
        {
         "bingroup": "x",
         "hovertemplate": "Age=%{x}<br>count=%{y}<extra></extra>",
         "legendgroup": "4",
         "marker": {
          "color": "#636efa",
          "pattern": {
           "shape": ""
          }
         },
         "name": "4",
         "orientation": "v",
         "showlegend": true,
         "type": "histogram",
         "x": {
          "bdata": "BAQEBAQEBAQEBAQEBAQEBAQEBAQEBAQEBAQEBAQEBAQEBAQEBAQEBAQEBAQEBAQEBAQEBAQEBAQEBAQEBAQEBAQEBAQEBAQEBAQEBAQEBAQEBAQEBAQEBAQEBAQEBAQEBAQEBAQEBAQEBAQEBAQEBAQEBAQEBAQEBAQEBAQEBAQEBAQEBAQEBAQEBAQEBAQEBAQEBAQEBAQEBAQEBAQEBAQEBAQEBAQEBAQEBAQEBAQEBAQEBAQEBAQEBAQEBAQEBAQEBAQEBAQEBAQEBAQEBAQEBAQEBAQEBAQEBAQEBAQEBAQEBAQEBAQEBAQEBAQEBAQEBAQEBAQEBAQEBAQEBAQEBAQEBAQEBAQEBAQEBAQEBAQEBAQEBAQEBAQEBAQEBAQEBAQEBAQEBAQEBAQEBAQEBAQEBAQEBAQEBAQEBAQEBAQEBAQEBAQEBAQEBAQEBAQEBAQEBAQEBAQEBAQEBAQEBAQEBAQEBAQEBAQEBAQEBAQEBAQEBAQEBAQEBAQEBAQEBAQEBAQEBAQEBAQEBAQEBAQEBAQEBAQEBAQEBAQEBAQEBAQEBAQEBAQEBAQEBAQEBAQEBAQEBAQEBAQEBAQEBAQEBAQEBAQEBAQEBAQEBAQEBAQEBAQEBAQEBAQEBAQEBAQEBAQEBAQEBAQEBAQEBAQEBAQEBAQEBAQEBAQEBAQEBAQEBAQEBAQEBAQEBAQEBAQEBAQEBAQEBAQEBAQEBAQEBAQEBAQEBAQEBAQEBAQEBAQEBAQEBAQEBAQEBAQEBAQEBAQEBAQEBAQEBAQEBAQEBAQEBAQEBAQEBAQEBAQEBAQEBAQEBAQEBAQEBAQEBAQEBAQEBAQEBAQEBAQEBAQEBAQEBAQEBAQEBAQEBAQEBAQEBAQEBAQEBAQEBAQEBAQEBAQEBAQEBAQEBAQEBAQEBAQEBAQEBAQEBAQEBAQEBAQEBAQEBAQEBAQEBAQEBAQEBAQEBAQEBAQEBAQEBAQEBAQEBAQEBAQEBAQEBAQEBAQEBAQEBAQEBAQEBAQEBAQEBAQEBAQEBAQEBAQEBAQEBAQEBAQEBAQEBAQEBAQEBAQEBAQEBAQEBAQEBAQEBAQEBAQEBAQEBAQEBAQEBAQEBAQEBAQEBAQEBAQEBAQEBAQEBAQEBAQEBAQEBAQEBAQEBAQEBAQEBAQEBAQEBAQEBAQEBAQEBAQEBAQEBAQEBAQEBAQEBAQEBAQEBAQEBAQEBAQEBAQEBAQEBAQEBAQEBAQEBAQEBAQEBAQEBAQEBAQEBAQEBAQEBAQEBAQEBAQEBAQEBAQEBAQEBAQEBAQEBAQEBAQEBAQEBAQEBAQEBAQEBAQEBAQEBAQEBAQEBAQEBAQEBAQEBAQEBAQEBAQEBAQEBAQEBAQEBAQEBAQEBAQEBAQEBAQEBAQEBAQEBAQEBAQEBAQEBAQEBAQEBAQEBAQEBAQEBAQEBAQEBAQEBAQEBAQEBAQEBAQEBAQEBAQEBAQEBAQEBAQEBAQEBAQEBAQEBAQEBAQEBAQEBAQEBAQEBAQEBAQEBAQEBAQEBAQEBAQEBAQEBAQEBAQEBAQEBAQEBAQEBAQEBAQEBAQEBAQEBAQEBAQEBAQEBAQEBAQEBAQEBAQEBAQEBAQEBAQEBAQEBAQEBAQEBAQEBAQEBAQEBAQEBAQEBAQEBAQEBAQEBAQEBAQEBAQEBAQEBAQEBAQEBAQEBAQEBAQEBAQEBAQEBAQEBAQEBAQEBAQEBAQEBAQEBAQEBAQEBAQEBAQEBAQEBAQEBAQEBAQEBAQEBAQEBAQEBAQEBAQEBAQEBAQEBAQEBAQEBAQEBAQEBAQEBAQEBAQEBAQEBAQEBAQEBAQEBAQEBAQEBAQEBAQEBAQEBAQEBAQEBAQEBAQEBAQEBAQ=",
          "dtype": "i1"
         },
         "xaxis": "x",
         "yaxis": "y"
        },
        {
         "bingroup": "x",
         "hovertemplate": "Age=%{x}<br>count=%{y}<extra></extra>",
         "legendgroup": "3",
         "marker": {
          "color": "#EF553B",
          "pattern": {
           "shape": ""
          }
         },
         "name": "3",
         "orientation": "v",
         "showlegend": true,
         "type": "histogram",
         "x": {
          "bdata": "AwMDAwMDAwMDAwMDAwMDAwMDAwMDAwMDAwMDAwMDAwMDAwMDAwMDAwMDAwMDAwMDAwMDAwMDAwMDAwMDAwMDAwMDAwMDAwMDAwMDAwMDAwMDAwMDAwMDAwMDAwMDAwMDAwMDAwMDAwMDAwMDAwMDAwMDAwMDAwMDAwMDAwMDAwMDAwMDAwMDAwMDAwMDAwMDAwMDAwMDAwMDAwMDAwMDAwMDAwMDAwMDAwMDAwMDAwMDAwMDAwMDAwMDAwMDAwMDAwMDAwMDAwMDAwMDAwMDAwMDAwMDAwMDAwMDAwMDAwMDAwMDAwMDAwMDAwMDAwMDAwMDAwMDAwMDAwMDAwMDAwMDAwMDAwMDAwMDAwMDAwMDAwMDAwMDAwMDAwMDAwMDAwMDAwMDAwMDAwMDAwMDAwMDAwMDAwMDAwMDAwMDAwMDAwMDAwMDAwMDAwMDAwMDAwMDAwMDAwMDAwMDAwMDAwMDAwMDAwMDAwMDAwMDAwMDAwMDAwMDAwMDAwMDAwMDAwMDAwMDAwMDAwMDAwMDAwMDAwMDAwMDAwMDAwMDAwMDAwMDAwMDAwMDAwMDAwMDAwMDAwMDAwMDAwMDAwMDAwMDAwMDAwMDAwMDAwMDAwMDAwMDAwMDAwMDAwMDAwMDAwMDAwMDAwMDAwMDAwMDAwMDAwMDAwMDAwMDAwMDAwMDAwMDAwMDAwMDAwMDAwMDAwMDAwMDAwMDAwMDAwMDAwMDAwMDAwMDAwMDAwMDAwMDAwMDAwMDAwMDAwMDAwMDAwMDAwMDAwMDAwMDAwMDAwMDAwMDAwMDAwMDAwMDAwMDAwMDAwMDAwMDAwMDAwMDAwMDAwMDAwMDAwMDAwMDAwMDAwMDAwMDAwMDAwMDAwMDAwMDAwMDAwMDAwMDAwMDAwMDAwMDAwMDAwMDAwMDAwMDAwMDAwMDAwMDAwMDAwMDAwMDAwMDAwMDAwMDAwMDAwMDAwMDAwMDAwMDAwMDAwMDAwMDAwMDAwMDAwMDAwMDAwMDAwMDAwMDAwMDAwMDAwMDAwMDAwMDAwMDAwMDAwMDAwMDAwMDAwMDAwMDAwMDAwMDAwMDAwMDAwMDAwMDAwMDAwMDAwMDAwMDAwMDAwMDAwMDAwMDAwMDAwMDAwMDAwMDAwMDAwMDAwMDAwMDAwMDAwMDAwMDAwMDAwMDAwMDAwMDAwMDAwMDAwMDAwMDAwMDAwMDAwMDAwMDAwMDAwMDAwMDAwMDAwMDAwMDAwMDAwMDAwMDAwMDAwMDAwMDAwMDAwMDAwMDAwMDAwMDAwMDAwMDAwMDAwMDAwMDAwMDAwMDAwMDAwMDAwMDAwMDAwMDAwMDAwMDAwMDAwMDAwMDAwMDAwMDAwMDAwMDAwMDAwMDAwMDAwMDAwMDAwMDAwMDAwMDAwMDAwMDAwMDAwMDAwMDAwMDAwMDAwMDAwMDAwMDAwMDAwMDAwMDAwMDAwMDAwMDAwMDAwMDAwMDAwMDAwMDAwMDAwMDAwMDAwMDAwMDAwMDAwMDAwMDAwMDAwMDAwMDAwMDAwMDAwMDAwMDAwMDAwMDAwMDAwMDAwMDAwMDAwMDAwMDAwMDAwMDAwMDAwMDAwMDAwMDAwMDAwMDAwMDAwMDAwMDAwMDAwMDAwMDAwMDAwMDAwMDAwMDAwMDAwMDAwMDAwMDAwMDAwMDAwMDAwMDAwMDAwMDAwMDAwMDAwMDAwMDAwMDAwMDAwMDAwMDAwMDAwMDAwMDAwMDAwMDAwMDAwMDAwMDAwMDAwMDAwMDAwMDAwMDAwMDAwMDAwMDAwMDAwMDAwMDAwMDAwMDAwMDAwMDAwMDAwMDAwMDAwMDAwMDAwMDAwMDAwMDAwMDAwMDAwMDAwMDAwMDAwMDAwMDAwMDAwMDAwMDAwMDAwMDAwMDAwMDAwMDAwMDAwMDAwMDAwMDAwMDAwMDAwMDAwMDAwMDAwMDAwMDAwMDAwMDAwMDAwMDAwMDAwMDAwMDAwMDAwMDAwMDAwMDAwMDAwMDAwMDAwMDAwMDAwMDAwMDAwMDAwMDAwMDAwMDAwMDAwMDAwMDAwMDAwMDAwMDAwMDAwMDAwMDAwMDAwMDAwMDAwMDAwMDAwMDAwMDAwMDAwMDAwMDAwMDAwMDAwMDAwMDAwMDAwMDAwMDAwMDAwMDAwMDAwMDAwMDAwMDAwMDAwMDAwMDAwMDAwMDAwMDAwMDAwMDAwMDAwMDAwMDAwMDAwMDAw==",
          "dtype": "i1"
         },
         "xaxis": "x",
         "yaxis": "y"
        },
        {
         "bingroup": "x",
         "hovertemplate": "Age=%{x}<br>count=%{y}<extra></extra>",
         "legendgroup": "5",
         "marker": {
          "color": "#00cc96",
          "pattern": {
           "shape": ""
          }
         },
         "name": "5",
         "orientation": "v",
         "showlegend": true,
         "type": "histogram",
         "x": {
          "bdata": "BQUFBQUFBQUFBQUFBQUFBQUFBQUFBQUFBQUFBQUFBQUFBQUFBQUFBQUFBQUFBQUFBQUFBQUFBQUFBQUFBQUFBQUFBQUFBQUFBQUFBQUFBQUFBQUFBQUFBQUFBQUFBQUFBQUFBQUFBQUFBQUFBQUFBQUFBQUFBQUFBQUFBQUFBQUFBQUFBQUFBQUFBQUFBQUFBQUFBQUFBQUFBQUFBQUFBQUFBQUFBQUFBQUFBQUFBQUFBQUFBQUFBQUFBQUFBQUFBQUFBQUFBQUFBQUFBQUFBQUFBQUFBQUFBQUFBQUFBQUFBQUFBQUFBQUFBQUFBQUFBQUFBQUFBQUFBQUFBQUFBQUFBQUFBQUFBQUFBQUFBQUFBQUFBQUFBQUFBQUFBQUFBQUFBQUFBQUFBQUFBQUFBQUFBQUFBQUFBQUFBQUFBQUFBQUFBQUFBQUFBQUFBQUFBQUFBQUFBQUFBQUFBQUFBQUFBQUFBQUFBQUFBQUFBQUFBQUFBQUFBQUFBQUFBQUFBQUFBQUFBQUFBQUFBQUFBQUFBQUFBQUFBQUFBQUFBQUFBQUFBQUFBQUFBQUFBQUFBQUFBQUFBQUFBQUFBQUFBQUFBQUFBQUFBQUFBQUFBQUFBQUFBQUFBQUFBQUFBQUFBQUFBQUFBQUFBQUFBQUFBQUFBQUFBQUFBQUFBQUFBQUFBQUFBQUFBQUFBQUFBQUFBQUFBQUFBQUFBQUFBQUFBQUFBQUFBQUFBQUFBQUFBQUFBQUFBQUFBQUFBQUFBQUFBQUFBQUFBQUFBQUFBQUFBQUFBQUFBQUFBQUFBQUFBQUFBQUFBQUFBQUFBQUFBQUFBQUFBQUFBQUFBQUFBQUFBQUFBQUFBQUFBQUFBQUFBQUFBQUFBQUFBQUFBQUFBQUFBQUFBQUFBQUFBQUFBQUFBQUFBQUFBQUFBQUFBQUFBQUFBQUFBQUFBQUFBQUFBQUFBQUFBQUFBQUFBQUFBQUFBQUFBQUFBQUFBQUFBQUFBQUFBQUFBQUFBQUFBQUFBQUFBQUFBQUFBQUFBQUFBQUFBQUFBQUFBQUFBQUFBQUFBQUFBQUFBQUFBQUFBQUFBQUFBQUFBQ==",
          "dtype": "i1"
         },
         "xaxis": "x",
         "yaxis": "y"
        },
        {
         "bingroup": "x",
         "hovertemplate": "Age=%{x}<br>count=%{y}<extra></extra>",
         "legendgroup": "6",
         "marker": {
          "color": "#ab63fa",
          "pattern": {
           "shape": ""
          }
         },
         "name": "6",
         "orientation": "v",
         "showlegend": true,
         "type": "histogram",
         "x": {
          "bdata": "BgYGBgYGBgYGBgYGBgYGBgYGBgYGBgYGBgYGBgYGBgYGBgYGBgYGBgYGBgYGBgYGBgYGBgYGBgYGBgYGBgYGBgYGBgYGBgYGBgYGBgYGBgYGBgYGBgYGBgYGBgYGBgYGBgYGBgYGBgYGBgYGBgYGBgYGBgYGBgYGBgYGBgYGBgYGBgYGBgYGBgYGBgYGBgYGBgYGBgYGBgYGBgYGBgYGBgYGBgYGBgYGBgYGBgYGBgYGBgYGBgYGBgYGBgYGBgYGBgYGBgYGBgYGBgYGBgYGBgYGBgYGBgYGBgYGBgYGBgYGBgYGBgYGBgYGBgYGBgYGBgYGBgYGBgYGBgYGBgYGBgYGBgYGBgYGBgYGBgYGBgYGBgYGBgYGBgYGBgYGBgYGBgYGBgYGBgYGBgYGBgYGBgYGBgYGBgYGBgYGBgYGBgYGBgYGBgYGBgYGBgYGBgYGBgYGBgYGBgYGBgYGBgYGBgYGBgYGBgYGBgYGBgYGBgYGBgYGBgYGBgYGBgYGBgYGBgYGBgYGBgYGBgYGBgYGBgYGBgYGBgYGBgYGBgYGBgYGBgYGBgYGBgYGBgYGBgYGBgYGBgYGBgYGBgYGBgYGBgYGBgYGBgYGBgYGBgYGBgYGBgYGBgYGBgYGBgYGBgYGBgYGBgYGBgYGBgYGBgYGBgYGBgYGBgYGBgYGBgYGBgYGBgYGBgYGBgYGBgYGBgYGBgYGBgYGBgYGBgYGBgYGBgYGBgYGBgYGBgYGBgYGBgYGBgYGBgYGBgYGBgYGBgYGBgYGBgYGBgYGBgYGBgYGBgYGBgYGBgYGBg==",
          "dtype": "i1"
         },
         "xaxis": "x",
         "yaxis": "y"
        },
        {
         "bingroup": "x",
         "hovertemplate": "Age=%{x}<br>count=%{y}<extra></extra>",
         "legendgroup": "8",
         "marker": {
          "color": "#FFA15A",
          "pattern": {
           "shape": ""
          }
         },
         "name": "8",
         "orientation": "v",
         "showlegend": true,
         "type": "histogram",
         "x": {
          "bdata": "CAgICAgICAgICAgICAgICAgICAgICAgICAgICAgICAgICAgICAgICAgICAgICAgICAgICAgICAgICAgICAgICAgICAgICAgICAgICAgICAgICAgICAgICAgICAgICAgICAgICAgICAgICAgICAgICAgICAgICAgICAgICAgICAgICAgICAgICAgICAgICAgICAgICAgICAgICAgICAgICAgICAgICAgICA==",
          "dtype": "i1"
         },
         "xaxis": "x",
         "yaxis": "y"
        },
        {
         "bingroup": "x",
         "hovertemplate": "Age=%{x}<br>count=%{y}<extra></extra>",
         "legendgroup": "7",
         "marker": {
          "color": "#19d3f3",
          "pattern": {
           "shape": ""
          }
         },
         "name": "7",
         "orientation": "v",
         "showlegend": true,
         "type": "histogram",
         "x": {
          "bdata": "BwcHBwcHBwcHBwcHBwcHBwcHBwcHBwcHBwcHBwcHBwcHBwcHBwcHBwcHBwcHBwcHBwcHBwcHBwcHBwcHBwcHBwcHBwcHBwcHBwcHBwcHBwcHBwcHBwcHBwcHBwcHBwcHBwcHBwcHBwcHBwcHBwcHBwcHBwcHBwcHBwcHBwcHBwcHBwcHBwcHBwcHBwcHBwcHBwcHBwcHBwcHBwcHBwcHBwcHBwcHBwcHBwcHBwcHBwcHBwcHBwcHBwcHBwcHBwcHBwcHBwcHBwcHBwcHBwcHBwcHBwcHBwcHBwcHBwcHBwcHBwcHBwcHBwcHBwcHBwcHBwcHBwcHBwcHBwcHBwcHBwcHBwcHBwcHBwcHBwcHBwcHBwcH",
          "dtype": "i1"
         },
         "xaxis": "x",
         "yaxis": "y"
        },
        {
         "bingroup": "x",
         "hovertemplate": "Age=%{x}<br>count=%{y}<extra></extra>",
         "legendgroup": "10",
         "marker": {
          "color": "#FF6692",
          "pattern": {
           "shape": ""
          }
         },
         "name": "10",
         "orientation": "v",
         "showlegend": true,
         "type": "histogram",
         "x": {
          "bdata": "CgoKCgoKCgoKCgoKCgoKCgoKCgoKCgoKCgoKCgoKCgoKCgoKCgoKCgoKCgo=",
          "dtype": "i1"
         },
         "xaxis": "x",
         "yaxis": "y"
        },
        {
         "bingroup": "x",
         "hovertemplate": "Age=%{x}<br>count=%{y}<extra></extra>",
         "legendgroup": "9",
         "marker": {
          "color": "#B6E880",
          "pattern": {
           "shape": ""
          }
         },
         "name": "9",
         "orientation": "v",
         "showlegend": true,
         "type": "histogram",
         "x": {
          "bdata": "CQkJCQkJCQkJCQkJCQkJCQkJCQkJCQkJCQkJCQkJCQkJCQkJCQkJCQkJCQkJCQkJCQkJCQkJCQkJCQkJCQkJCQkJCQkJCQkJCQk=",
          "dtype": "i1"
         },
         "xaxis": "x",
         "yaxis": "y"
        },
        {
         "bingroup": "x",
         "hovertemplate": "Age=%{x}<br>count=%{y}<extra></extra>",
         "legendgroup": "11",
         "marker": {
          "color": "#FF97FF",
          "pattern": {
           "shape": ""
          }
         },
         "name": "11",
         "orientation": "v",
         "showlegend": true,
         "type": "histogram",
         "x": {
          "bdata": "CwsLCwsLCws=",
          "dtype": "i1"
         },
         "xaxis": "x",
         "yaxis": "y"
        },
        {
         "bingroup": "x",
         "hovertemplate": "Age=%{x}<br>count=%{y}<extra></extra>",
         "legendgroup": "12",
         "marker": {
          "color": "#FECB52",
          "pattern": {
           "shape": ""
          }
         },
         "name": "12",
         "orientation": "v",
         "showlegend": true,
         "type": "histogram",
         "x": {
          "bdata": "DAw=",
          "dtype": "i1"
         },
         "xaxis": "x",
         "yaxis": "y"
        },
        {
         "bingroup": "x",
         "hovertemplate": "Age=%{x}<br>count=%{y}<extra></extra>",
         "legendgroup": "2",
         "marker": {
          "color": "#636efa",
          "pattern": {
           "shape": ""
          }
         },
         "name": "2",
         "orientation": "v",
         "showlegend": true,
         "type": "histogram",
         "x": {
          "bdata": "AgICAgICAgICAgICAgICAgICAgICAgICAgICAgICAgICAgICAgICAgICAgICAgICAgICAgICAgICAgICAgICAgICAgICAgICAgICAgICAgICAgICAgICAgICAgICAgICAgICAgICAgICAgICAgICAgICAgICAgICAgICAgICAgICAgICAgICAgICAgICAgICAgICAgICAgICAgICAgICAgICAgICAgICAgICAgICAgICAgICAgICAgICAgICAgICAgICAgICAgICAgICAgICAgICAgICAgICAgICAgICAgICAgICAgICAgICAgICAgICAgICAgICAgICAgICAgICAgICAgICAgICAgICAgICAgICAgICAgIC",
          "dtype": "i1"
         },
         "xaxis": "x",
         "yaxis": "y"
        }
       ],
       "layout": {
        "bargap": 0.2,
        "barmode": "relative",
        "legend": {
         "title": {
          "text": "Age"
         },
         "tracegroupgap": 0
        },
        "template": {
         "data": {
          "bar": [
           {
            "error_x": {
             "color": "#2a3f5f"
            },
            "error_y": {
             "color": "#2a3f5f"
            },
            "marker": {
             "line": {
              "color": "#E5ECF6",
              "width": 0.5
             },
             "pattern": {
              "fillmode": "overlay",
              "size": 10,
              "solidity": 0.2
             }
            },
            "type": "bar"
           }
          ],
          "barpolar": [
           {
            "marker": {
             "line": {
              "color": "#E5ECF6",
              "width": 0.5
             },
             "pattern": {
              "fillmode": "overlay",
              "size": 10,
              "solidity": 0.2
             }
            },
            "type": "barpolar"
           }
          ],
          "carpet": [
           {
            "aaxis": {
             "endlinecolor": "#2a3f5f",
             "gridcolor": "white",
             "linecolor": "white",
             "minorgridcolor": "white",
             "startlinecolor": "#2a3f5f"
            },
            "baxis": {
             "endlinecolor": "#2a3f5f",
             "gridcolor": "white",
             "linecolor": "white",
             "minorgridcolor": "white",
             "startlinecolor": "#2a3f5f"
            },
            "type": "carpet"
           }
          ],
          "choropleth": [
           {
            "colorbar": {
             "outlinewidth": 0,
             "ticks": ""
            },
            "type": "choropleth"
           }
          ],
          "contour": [
           {
            "colorbar": {
             "outlinewidth": 0,
             "ticks": ""
            },
            "colorscale": [
             [
              0,
              "#0d0887"
             ],
             [
              0.1111111111111111,
              "#46039f"
             ],
             [
              0.2222222222222222,
              "#7201a8"
             ],
             [
              0.3333333333333333,
              "#9c179e"
             ],
             [
              0.4444444444444444,
              "#bd3786"
             ],
             [
              0.5555555555555556,
              "#d8576b"
             ],
             [
              0.6666666666666666,
              "#ed7953"
             ],
             [
              0.7777777777777778,
              "#fb9f3a"
             ],
             [
              0.8888888888888888,
              "#fdca26"
             ],
             [
              1,
              "#f0f921"
             ]
            ],
            "type": "contour"
           }
          ],
          "contourcarpet": [
           {
            "colorbar": {
             "outlinewidth": 0,
             "ticks": ""
            },
            "type": "contourcarpet"
           }
          ],
          "heatmap": [
           {
            "colorbar": {
             "outlinewidth": 0,
             "ticks": ""
            },
            "colorscale": [
             [
              0,
              "#0d0887"
             ],
             [
              0.1111111111111111,
              "#46039f"
             ],
             [
              0.2222222222222222,
              "#7201a8"
             ],
             [
              0.3333333333333333,
              "#9c179e"
             ],
             [
              0.4444444444444444,
              "#bd3786"
             ],
             [
              0.5555555555555556,
              "#d8576b"
             ],
             [
              0.6666666666666666,
              "#ed7953"
             ],
             [
              0.7777777777777778,
              "#fb9f3a"
             ],
             [
              0.8888888888888888,
              "#fdca26"
             ],
             [
              1,
              "#f0f921"
             ]
            ],
            "type": "heatmap"
           }
          ],
          "histogram": [
           {
            "marker": {
             "pattern": {
              "fillmode": "overlay",
              "size": 10,
              "solidity": 0.2
             }
            },
            "type": "histogram"
           }
          ],
          "histogram2d": [
           {
            "colorbar": {
             "outlinewidth": 0,
             "ticks": ""
            },
            "colorscale": [
             [
              0,
              "#0d0887"
             ],
             [
              0.1111111111111111,
              "#46039f"
             ],
             [
              0.2222222222222222,
              "#7201a8"
             ],
             [
              0.3333333333333333,
              "#9c179e"
             ],
             [
              0.4444444444444444,
              "#bd3786"
             ],
             [
              0.5555555555555556,
              "#d8576b"
             ],
             [
              0.6666666666666666,
              "#ed7953"
             ],
             [
              0.7777777777777778,
              "#fb9f3a"
             ],
             [
              0.8888888888888888,
              "#fdca26"
             ],
             [
              1,
              "#f0f921"
             ]
            ],
            "type": "histogram2d"
           }
          ],
          "histogram2dcontour": [
           {
            "colorbar": {
             "outlinewidth": 0,
             "ticks": ""
            },
            "colorscale": [
             [
              0,
              "#0d0887"
             ],
             [
              0.1111111111111111,
              "#46039f"
             ],
             [
              0.2222222222222222,
              "#7201a8"
             ],
             [
              0.3333333333333333,
              "#9c179e"
             ],
             [
              0.4444444444444444,
              "#bd3786"
             ],
             [
              0.5555555555555556,
              "#d8576b"
             ],
             [
              0.6666666666666666,
              "#ed7953"
             ],
             [
              0.7777777777777778,
              "#fb9f3a"
             ],
             [
              0.8888888888888888,
              "#fdca26"
             ],
             [
              1,
              "#f0f921"
             ]
            ],
            "type": "histogram2dcontour"
           }
          ],
          "mesh3d": [
           {
            "colorbar": {
             "outlinewidth": 0,
             "ticks": ""
            },
            "type": "mesh3d"
           }
          ],
          "parcoords": [
           {
            "line": {
             "colorbar": {
              "outlinewidth": 0,
              "ticks": ""
             }
            },
            "type": "parcoords"
           }
          ],
          "pie": [
           {
            "automargin": true,
            "type": "pie"
           }
          ],
          "scatter": [
           {
            "fillpattern": {
             "fillmode": "overlay",
             "size": 10,
             "solidity": 0.2
            },
            "type": "scatter"
           }
          ],
          "scatter3d": [
           {
            "line": {
             "colorbar": {
              "outlinewidth": 0,
              "ticks": ""
             }
            },
            "marker": {
             "colorbar": {
              "outlinewidth": 0,
              "ticks": ""
             }
            },
            "type": "scatter3d"
           }
          ],
          "scattercarpet": [
           {
            "marker": {
             "colorbar": {
              "outlinewidth": 0,
              "ticks": ""
             }
            },
            "type": "scattercarpet"
           }
          ],
          "scattergeo": [
           {
            "marker": {
             "colorbar": {
              "outlinewidth": 0,
              "ticks": ""
             }
            },
            "type": "scattergeo"
           }
          ],
          "scattergl": [
           {
            "marker": {
             "colorbar": {
              "outlinewidth": 0,
              "ticks": ""
             }
            },
            "type": "scattergl"
           }
          ],
          "scattermap": [
           {
            "marker": {
             "colorbar": {
              "outlinewidth": 0,
              "ticks": ""
             }
            },
            "type": "scattermap"
           }
          ],
          "scattermapbox": [
           {
            "marker": {
             "colorbar": {
              "outlinewidth": 0,
              "ticks": ""
             }
            },
            "type": "scattermapbox"
           }
          ],
          "scatterpolar": [
           {
            "marker": {
             "colorbar": {
              "outlinewidth": 0,
              "ticks": ""
             }
            },
            "type": "scatterpolar"
           }
          ],
          "scatterpolargl": [
           {
            "marker": {
             "colorbar": {
              "outlinewidth": 0,
              "ticks": ""
             }
            },
            "type": "scatterpolargl"
           }
          ],
          "scatterternary": [
           {
            "marker": {
             "colorbar": {
              "outlinewidth": 0,
              "ticks": ""
             }
            },
            "type": "scatterternary"
           }
          ],
          "surface": [
           {
            "colorbar": {
             "outlinewidth": 0,
             "ticks": ""
            },
            "colorscale": [
             [
              0,
              "#0d0887"
             ],
             [
              0.1111111111111111,
              "#46039f"
             ],
             [
              0.2222222222222222,
              "#7201a8"
             ],
             [
              0.3333333333333333,
              "#9c179e"
             ],
             [
              0.4444444444444444,
              "#bd3786"
             ],
             [
              0.5555555555555556,
              "#d8576b"
             ],
             [
              0.6666666666666666,
              "#ed7953"
             ],
             [
              0.7777777777777778,
              "#fb9f3a"
             ],
             [
              0.8888888888888888,
              "#fdca26"
             ],
             [
              1,
              "#f0f921"
             ]
            ],
            "type": "surface"
           }
          ],
          "table": [
           {
            "cells": {
             "fill": {
              "color": "#EBF0F8"
             },
             "line": {
              "color": "white"
             }
            },
            "header": {
             "fill": {
              "color": "#C8D4E3"
             },
             "line": {
              "color": "white"
             }
            },
            "type": "table"
           }
          ]
         },
         "layout": {
          "annotationdefaults": {
           "arrowcolor": "#2a3f5f",
           "arrowhead": 0,
           "arrowwidth": 1
          },
          "autotypenumbers": "strict",
          "coloraxis": {
           "colorbar": {
            "outlinewidth": 0,
            "ticks": ""
           }
          },
          "colorscale": {
           "diverging": [
            [
             0,
             "#8e0152"
            ],
            [
             0.1,
             "#c51b7d"
            ],
            [
             0.2,
             "#de77ae"
            ],
            [
             0.3,
             "#f1b6da"
            ],
            [
             0.4,
             "#fde0ef"
            ],
            [
             0.5,
             "#f7f7f7"
            ],
            [
             0.6,
             "#e6f5d0"
            ],
            [
             0.7,
             "#b8e186"
            ],
            [
             0.8,
             "#7fbc41"
            ],
            [
             0.9,
             "#4d9221"
            ],
            [
             1,
             "#276419"
            ]
           ],
           "sequential": [
            [
             0,
             "#0d0887"
            ],
            [
             0.1111111111111111,
             "#46039f"
            ],
            [
             0.2222222222222222,
             "#7201a8"
            ],
            [
             0.3333333333333333,
             "#9c179e"
            ],
            [
             0.4444444444444444,
             "#bd3786"
            ],
            [
             0.5555555555555556,
             "#d8576b"
            ],
            [
             0.6666666666666666,
             "#ed7953"
            ],
            [
             0.7777777777777778,
             "#fb9f3a"
            ],
            [
             0.8888888888888888,
             "#fdca26"
            ],
            [
             1,
             "#f0f921"
            ]
           ],
           "sequentialminus": [
            [
             0,
             "#0d0887"
            ],
            [
             0.1111111111111111,
             "#46039f"
            ],
            [
             0.2222222222222222,
             "#7201a8"
            ],
            [
             0.3333333333333333,
             "#9c179e"
            ],
            [
             0.4444444444444444,
             "#bd3786"
            ],
            [
             0.5555555555555556,
             "#d8576b"
            ],
            [
             0.6666666666666666,
             "#ed7953"
            ],
            [
             0.7777777777777778,
             "#fb9f3a"
            ],
            [
             0.8888888888888888,
             "#fdca26"
            ],
            [
             1,
             "#f0f921"
            ]
           ]
          },
          "colorway": [
           "#636efa",
           "#EF553B",
           "#00cc96",
           "#ab63fa",
           "#FFA15A",
           "#19d3f3",
           "#FF6692",
           "#B6E880",
           "#FF97FF",
           "#FECB52"
          ],
          "font": {
           "color": "#2a3f5f"
          },
          "geo": {
           "bgcolor": "white",
           "lakecolor": "white",
           "landcolor": "#E5ECF6",
           "showlakes": true,
           "showland": true,
           "subunitcolor": "white"
          },
          "hoverlabel": {
           "align": "left"
          },
          "hovermode": "closest",
          "mapbox": {
           "style": "light"
          },
          "paper_bgcolor": "white",
          "plot_bgcolor": "#E5ECF6",
          "polar": {
           "angularaxis": {
            "gridcolor": "white",
            "linecolor": "white",
            "ticks": ""
           },
           "bgcolor": "#E5ECF6",
           "radialaxis": {
            "gridcolor": "white",
            "linecolor": "white",
            "ticks": ""
           }
          },
          "scene": {
           "xaxis": {
            "backgroundcolor": "#E5ECF6",
            "gridcolor": "white",
            "gridwidth": 2,
            "linecolor": "white",
            "showbackground": true,
            "ticks": "",
            "zerolinecolor": "white"
           },
           "yaxis": {
            "backgroundcolor": "#E5ECF6",
            "gridcolor": "white",
            "gridwidth": 2,
            "linecolor": "white",
            "showbackground": true,
            "ticks": "",
            "zerolinecolor": "white"
           },
           "zaxis": {
            "backgroundcolor": "#E5ECF6",
            "gridcolor": "white",
            "gridwidth": 2,
            "linecolor": "white",
            "showbackground": true,
            "ticks": "",
            "zerolinecolor": "white"
           }
          },
          "shapedefaults": {
           "line": {
            "color": "#2a3f5f"
           }
          },
          "ternary": {
           "aaxis": {
            "gridcolor": "white",
            "linecolor": "white",
            "ticks": ""
           },
           "baxis": {
            "gridcolor": "white",
            "linecolor": "white",
            "ticks": ""
           },
           "bgcolor": "#E5ECF6",
           "caxis": {
            "gridcolor": "white",
            "linecolor": "white",
            "ticks": ""
           }
          },
          "title": {
           "x": 0.05
          },
          "xaxis": {
           "automargin": true,
           "gridcolor": "white",
           "linecolor": "white",
           "ticks": "",
           "title": {
            "standoff": 15
           },
           "zerolinecolor": "white",
           "zerolinewidth": 2
          },
          "yaxis": {
           "automargin": true,
           "gridcolor": "white",
           "linecolor": "white",
           "ticks": "",
           "title": {
            "standoff": 15
           },
           "zerolinecolor": "white",
           "zerolinewidth": 2
          }
         }
        },
        "title": {
         "text": "Winners falling in Age Bracker"
        },
        "xaxis": {
         "anchor": "y",
         "categoryarray": [
          4,
          3,
          5,
          6,
          8,
          7,
          10,
          9,
          11,
          12,
          2
         ],
         "categoryorder": "array",
         "domain": [
          0,
          1
         ],
         "title": {
          "text": "Age brackets of horses with most wins"
         }
        },
        "yaxis": {
         "anchor": "x",
         "domain": [
          0,
          1
         ],
         "title": {
          "text": "Count of Wins"
         }
        }
       }
      }
     },
     "metadata": {},
     "output_type": "display_data"
    }
   ],
   "source": [
    "# plt.figure(figsize=(8,6))\n",
    "# sns.countplot(x='Age',data=winners,palette='flare')\n",
    "# plt.xlabel('Age brackets of horses with most wins')\n",
    "# plt.ylabel('Horse')\n",
    "# plt.title('Count of Wins')\n",
    "# plt.show()\n",
    "\n",
    "fig=px.histogram(winners, x='Age', title='Winners falling in Age Bracker',color='Age')\n",
    "fig.update_layout(xaxis_title='Age brackets of horses with most wins', yaxis_title='Count of Wins', bargap=0.2\n",
    ")\n"
   ]
  },
  {
   "cell_type": "code",
   "execution_count": 47,
   "id": "476749ee",
   "metadata": {},
   "outputs": [
    {
     "data": {
      "application/vnd.plotly.v1+json": {
       "config": {
        "plotlyServerURL": "https://plot.ly"
       },
       "data": [
        {
         "alignmentgroup": "True",
         "hovertemplate": "Age=%{x}<br>distanceYards=%{y}<extra></extra>",
         "legendgroup": "4",
         "marker": {
          "color": "#636efa"
         },
         "name": "4",
         "notched": false,
         "offsetgroup": "4",
         "orientation": "v",
         "showlegend": true,
         "type": "box",
         "x": {
          "bdata": "BAQEBAQEBAQEBAQEBAQEBAQEBAQEBAQEBAQEBAQEBAQEBAQEBAQEBAQEBAQEBAQEBAQEBAQEBAQEBAQEBAQEBAQEBAQEBAQEBAQEBAQEBAQEBAQEBAQEBAQEBAQEBAQEBAQEBAQEBAQEBAQEBAQEBAQEBAQEBAQEBAQEBAQEBAQEBAQEBAQEBAQEBAQEBAQEBAQEBAQEBAQEBAQEBAQEBAQEBAQEBAQEBAQEBAQEBAQEBAQEBAQEBAQEBAQEBAQEBAQEBAQEBAQEBAQEBAQEBAQEBAQEBAQEBAQEBAQEBAQEBAQEBAQEBAQEBAQEBAQEBAQEBAQEBAQEBAQEBAQEBAQEBAQEBAQEBAQEBAQEBAQEBAQEBAQEBAQEBAQEBAQEBAQEBAQEBAQEBAQEBAQEBAQEBAQEBAQEBAQEBAQEBAQEBAQEBAQEBAQEBAQEBAQEBAQEBAQEBAQEBAQEBAQEBAQEBAQEBAQEBAQEBAQEBAQEBAQEBAQEBAQEBAQEBAQEBAQEBAQEBAQEBAQEBAQEBAQEBAQEBAQEBAQEBAQEBAQEBAQEBAQEBAQEBAQEBAQEBAQEBAQEBAQEBAQEBAQEBAQEBAQEBAQEBAQEBAQEBAQEBAQEBAQEBAQEBAQEBAQEBAQEBAQEBAQEBAQEBAQEBAQEBAQEBAQEBAQEBAQEBAQEBAQEBAQEBAQEBAQEBAQEBAQEBAQEBAQEBAQEBAQEBAQEBAQEBAQEBAQEBAQEBAQEBAQEBAQEBAQEBAQEBAQEBAQEBAQEBAQEBAQEBAQEBAQEBAQEBAQEBAQEBAQEBAQEBAQEBAQEBAQEBAQEBAQEBAQEBAQEBAQEBAQEBAQEBAQEBAQEBAQEBAQEBAQEBAQEBAQEBAQEBAQEBAQEBAQEBAQEBAQEBAQEBAQEBAQEBAQEBAQEBAQEBAQEBAQEBAQEBAQEBAQEBAQEBAQEBAQEBAQEBAQEBAQEBAQEBAQEBAQEBAQEBAQEBAQEBAQEBAQEBAQEBAQEBAQEBAQEBAQEBAQEBAQEBAQEBAQEBAQEBAQEBAQEBAQEBAQEBAQEBAQEBAQEBAQEBAQEBAQEBAQEBAQEBAQEBAQEBAQEBAQEBAQEBAQEBAQEBAQEBAQEBAQEBAQEBAQEBAQEBAQEBAQEBAQEBAQEBAQEBAQEBAQEBAQEBAQEBAQEBAQEBAQEBAQEBAQEBAQEBAQEBAQEBAQEBAQEBAQEBAQEBAQEBAQEBAQEBAQEBAQEBAQEBAQEBAQEBAQEBAQEBAQEBAQEBAQEBAQEBAQEBAQEBAQEBAQEBAQEBAQEBAQEBAQEBAQEBAQEBAQEBAQEBAQEBAQEBAQEBAQEBAQEBAQEBAQEBAQEBAQEBAQEBAQEBAQEBAQEBAQEBAQEBAQEBAQEBAQEBAQEBAQEBAQEBAQEBAQEBAQEBAQEBAQEBAQEBAQEBAQEBAQEBAQEBAQEBAQEBAQEBAQEBAQEBAQEBAQEBAQEBAQEBAQEBAQEBAQEBAQEBAQEBAQEBAQEBAQEBAQEBAQEBAQEBAQEBAQEBAQEBAQEBAQEBAQEBAQEBAQEBAQEBAQEBAQEBAQEBAQEBAQEBAQEBAQEBAQEBAQEBAQEBAQEBAQEBAQEBAQEBAQEBAQEBAQEBAQEBAQEBAQEBAQEBAQEBAQEBAQEBAQEBAQEBAQEBAQEBAQEBAQEBAQEBAQEBAQEBAQEBAQEBAQEBAQEBAQEBAQEBAQEBAQEBAQEBAQEBAQEBAQEBAQEBAQEBAQEBAQEBAQEBAQEBAQEBAQEBAQEBAQEBAQEBAQEBAQEBAQEBAQEBAQEBAQEBAQEBAQEBAQEBAQEBAQEBAQEBAQEBAQEBAQEBAQEBAQEBAQEBAQEBAQEBAQEBAQEBAQ=",
          "dtype": "i1"
         },
         "x0": " ",
         "xaxis": "x",
         "y": {
          "bdata": "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",
          "dtype": "i2"
         },
         "y0": " ",
         "yaxis": "y"
        },
        {
         "alignmentgroup": "True",
         "hovertemplate": "Age=%{x}<br>distanceYards=%{y}<extra></extra>",
         "legendgroup": "3",
         "marker": {
          "color": "#EF553B"
         },
         "name": "3",
         "notched": false,
         "offsetgroup": "3",
         "orientation": "v",
         "showlegend": true,
         "type": "box",
         "x": {
          "bdata": "AwMDAwMDAwMDAwMDAwMDAwMDAwMDAwMDAwMDAwMDAwMDAwMDAwMDAwMDAwMDAwMDAwMDAwMDAwMDAwMDAwMDAwMDAwMDAwMDAwMDAwMDAwMDAwMDAwMDAwMDAwMDAwMDAwMDAwMDAwMDAwMDAwMDAwMDAwMDAwMDAwMDAwMDAwMDAwMDAwMDAwMDAwMDAwMDAwMDAwMDAwMDAwMDAwMDAwMDAwMDAwMDAwMDAwMDAwMDAwMDAwMDAwMDAwMDAwMDAwMDAwMDAwMDAwMDAwMDAwMDAwMDAwMDAwMDAwMDAwMDAwMDAwMDAwMDAwMDAwMDAwMDAwMDAwMDAwMDAwMDAwMDAwMDAwMDAwMDAwMDAwMDAwMDAwMDAwMDAwMDAwMDAwMDAwMDAwMDAwMDAwMDAwMDAwMDAwMDAwMDAwMDAwMDAwMDAwMDAwMDAwMDAwMDAwMDAwMDAwMDAwMDAwMDAwMDAwMDAwMDAwMDAwMDAwMDAwMDAwMDAwMDAwMDAwMDAwMDAwMDAwMDAwMDAwMDAwMDAwMDAwMDAwMDAwMDAwMDAwMDAwMDAwMDAwMDAwMDAwMDAwMDAwMDAwMDAwMDAwMDAwMDAwMDAwMDAwMDAwMDAwMDAwMDAwMDAwMDAwMDAwMDAwMDAwMDAwMDAwMDAwMDAwMDAwMDAwMDAwMDAwMDAwMDAwMDAwMDAwMDAwMDAwMDAwMDAwMDAwMDAwMDAwMDAwMDAwMDAwMDAwMDAwMDAwMDAwMDAwMDAwMDAwMDAwMDAwMDAwMDAwMDAwMDAwMDAwMDAwMDAwMDAwMDAwMDAwMDAwMDAwMDAwMDAwMDAwMDAwMDAwMDAwMDAwMDAwMDAwMDAwMDAwMDAwMDAwMDAwMDAwMDAwMDAwMDAwMDAwMDAwMDAwMDAwMDAwMDAwMDAwMDAwMDAwMDAwMDAwMDAwMDAwMDAwMDAwMDAwMDAwMDAwMDAwMDAwMDAwMDAwMDAwMDAwMDAwMDAwMDAwMDAwMDAwMDAwMDAwMDAwMDAwMDAwMDAwMDAwMDAwMDAwMDAwMDAwMDAwMDAwMDAwMDAwMDAwMDAwMDAwMDAwMDAwMDAwMDAwMDAwMDAwMDAwMDAwMDAwMDAwMDAwMDAwMDAwMDAwMDAwMDAwMDAwMDAwMDAwMDAwMDAwMDAwMDAwMDAwMDAwMDAwMDAwMDAwMDAwMDAwMDAwMDAwMDAwMDAwMDAwMDAwMDAwMDAwMDAwMDAwMDAwMDAwMDAwMDAwMDAwMDAwMDAwMDAwMDAwMDAwMDAwMDAwMDAwMDAwMDAwMDAwMDAwMDAwMDAwMDAwMDAwMDAwMDAwMDAwMDAwMDAwMDAwMDAwMDAwMDAwMDAwMDAwMDAwMDAwMDAwMDAwMDAwMDAwMDAwMDAwMDAwMDAwMDAwMDAwMDAwMDAwMDAwMDAwMDAwMDAwMDAwMDAwMDAwMDAwMDAwMDAwMDAwMDAwMDAwMDAwMDAwMDAwMDAwMDAwMDAwMDAwMDAwMDAwMDAwMDAwMDAwMDAwMDAwMDAwMDAwMDAwMDAwMDAwMDAwMDAwMDAwMDAwMDAwMDAwMDAwMDAwMDAwMDAwMDAwMDAwMDAwMDAwMDAwMDAwMDAwMDAwMDAwMDAwMDAwMDAwMDAwMDAwMDAwMDAwMDAwMDAwMDAwMDAwMDAwMDAwMDAwMDAwMDAwMDAwMDAwMDAwMDAwMDAwMDAwMDAwMDAwMDAwMDAwMDAwMDAwMDAwMDAwMDAwMDAwMDAwMDAwMDAwMDAwMDAwMDAwMDAwMDAwMDAwMDAwMDAwMDAwMDAwMDAwMDAwMDAwMDAwMDAwMDAwMDAwMDAwMDAwMDAwMDAwMDAwMDAwMDAwMDAwMDAwMDAwMDAwMDAwMDAwMDAwMDAwMDAwMDAwMDAwMDAwMDAwMDAwMDAwMDAwMDAwMDAwMDAwMDAwMDAwMDAwMDAwMDAwMDAwMDAwMDAwMDAwMDAwMDAwMDAwMDAwMDAwMDAwMDAwMDAwMDAwMDAwMDAwMDAwMDAwMDAwMDAwMDAwMDAwMDAwMDAwMDAwMDAwMDAwMDAwMDAwMDAwMDAwMDAwMDAwMDAwMDAwMDAwMDAwMDAwMDAwMDAwMDAwMDAwMDAwMDAwMDAwMDAwMDAwMDAwMDAwMDAwMDAwMDAwMDAwMDAwMDAwMDAwMDAwMDAwMDAwMDAwMDAwMDAwMDAwMDAw==",
          "dtype": "i1"
         },
         "x0": " ",
         "xaxis": "x",
         "y": {
          "bdata": "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",
          "dtype": "i2"
         },
         "y0": " ",
         "yaxis": "y"
        },
        {
         "alignmentgroup": "True",
         "hovertemplate": "Age=%{x}<br>distanceYards=%{y}<extra></extra>",
         "legendgroup": "5",
         "marker": {
          "color": "#00cc96"
         },
         "name": "5",
         "notched": false,
         "offsetgroup": "5",
         "orientation": "v",
         "showlegend": true,
         "type": "box",
         "x": {
          "bdata": "BQUFBQUFBQUFBQUFBQUFBQUFBQUFBQUFBQUFBQUFBQUFBQUFBQUFBQUFBQUFBQUFBQUFBQUFBQUFBQUFBQUFBQUFBQUFBQUFBQUFBQUFBQUFBQUFBQUFBQUFBQUFBQUFBQUFBQUFBQUFBQUFBQUFBQUFBQUFBQUFBQUFBQUFBQUFBQUFBQUFBQUFBQUFBQUFBQUFBQUFBQUFBQUFBQUFBQUFBQUFBQUFBQUFBQUFBQUFBQUFBQUFBQUFBQUFBQUFBQUFBQUFBQUFBQUFBQUFBQUFBQUFBQUFBQUFBQUFBQUFBQUFBQUFBQUFBQUFBQUFBQUFBQUFBQUFBQUFBQUFBQUFBQUFBQUFBQUFBQUFBQUFBQUFBQUFBQUFBQUFBQUFBQUFBQUFBQUFBQUFBQUFBQUFBQUFBQUFBQUFBQUFBQUFBQUFBQUFBQUFBQUFBQUFBQUFBQUFBQUFBQUFBQUFBQUFBQUFBQUFBQUFBQUFBQUFBQUFBQUFBQUFBQUFBQUFBQUFBQUFBQUFBQUFBQUFBQUFBQUFBQUFBQUFBQUFBQUFBQUFBQUFBQUFBQUFBQUFBQUFBQUFBQUFBQUFBQUFBQUFBQUFBQUFBQUFBQUFBQUFBQUFBQUFBQUFBQUFBQUFBQUFBQUFBQUFBQUFBQUFBQUFBQUFBQUFBQUFBQUFBQUFBQUFBQUFBQUFBQUFBQUFBQUFBQUFBQUFBQUFBQUFBQUFBQUFBQUFBQUFBQUFBQUFBQUFBQUFBQUFBQUFBQUFBQUFBQUFBQUFBQUFBQUFBQUFBQUFBQUFBQUFBQUFBQUFBQUFBQUFBQUFBQUFBQUFBQUFBQUFBQUFBQUFBQUFBQUFBQUFBQUFBQUFBQUFBQUFBQUFBQUFBQUFBQUFBQUFBQUFBQUFBQUFBQUFBQUFBQUFBQUFBQUFBQUFBQUFBQUFBQUFBQUFBQUFBQUFBQUFBQUFBQUFBQUFBQUFBQUFBQUFBQUFBQUFBQUFBQUFBQUFBQUFBQUFBQUFBQUFBQUFBQUFBQUFBQUFBQUFBQUFBQUFBQUFBQUFBQUFBQUFBQUFBQUFBQUFBQUFBQUFBQUFBQUFBQ==",
          "dtype": "i1"
         },
         "x0": " ",
         "xaxis": "x",
         "y": {
          "bdata": "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",
          "dtype": "i2"
         },
         "y0": " ",
         "yaxis": "y"
        },
        {
         "alignmentgroup": "True",
         "hovertemplate": "Age=%{x}<br>distanceYards=%{y}<extra></extra>",
         "legendgroup": "6",
         "marker": {
          "color": "#ab63fa"
         },
         "name": "6",
         "notched": false,
         "offsetgroup": "6",
         "orientation": "v",
         "showlegend": true,
         "type": "box",
         "x": {
          "bdata": "BgYGBgYGBgYGBgYGBgYGBgYGBgYGBgYGBgYGBgYGBgYGBgYGBgYGBgYGBgYGBgYGBgYGBgYGBgYGBgYGBgYGBgYGBgYGBgYGBgYGBgYGBgYGBgYGBgYGBgYGBgYGBgYGBgYGBgYGBgYGBgYGBgYGBgYGBgYGBgYGBgYGBgYGBgYGBgYGBgYGBgYGBgYGBgYGBgYGBgYGBgYGBgYGBgYGBgYGBgYGBgYGBgYGBgYGBgYGBgYGBgYGBgYGBgYGBgYGBgYGBgYGBgYGBgYGBgYGBgYGBgYGBgYGBgYGBgYGBgYGBgYGBgYGBgYGBgYGBgYGBgYGBgYGBgYGBgYGBgYGBgYGBgYGBgYGBgYGBgYGBgYGBgYGBgYGBgYGBgYGBgYGBgYGBgYGBgYGBgYGBgYGBgYGBgYGBgYGBgYGBgYGBgYGBgYGBgYGBgYGBgYGBgYGBgYGBgYGBgYGBgYGBgYGBgYGBgYGBgYGBgYGBgYGBgYGBgYGBgYGBgYGBgYGBgYGBgYGBgYGBgYGBgYGBgYGBgYGBgYGBgYGBgYGBgYGBgYGBgYGBgYGBgYGBgYGBgYGBgYGBgYGBgYGBgYGBgYGBgYGBgYGBgYGBgYGBgYGBgYGBgYGBgYGBgYGBgYGBgYGBgYGBgYGBgYGBgYGBgYGBgYGBgYGBgYGBgYGBgYGBgYGBgYGBgYGBgYGBgYGBgYGBgYGBgYGBgYGBgYGBgYGBgYGBgYGBgYGBgYGBgYGBgYGBgYGBgYGBgYGBgYGBgYGBgYGBgYGBgYGBgYGBgYGBgYGBgYGBgYGBg==",
          "dtype": "i1"
         },
         "x0": " ",
         "xaxis": "x",
         "y": {
          "bdata": "KAXlBuUGJAgoBr4NcwnlBjgF4AYdDB0MTATADQUGBQZhBCQILgkoBrIK5QYoBUwEOAUEBuAG4QZuBwQGHQxSBEYE5QZQCuAGPAUEBgQGTARSBOAGJAiDCuUGLAuYCCYOJg5hBOEGEgZMBCQI5QYoBuUGUgQoBhIGEgZQClAKKAUuCW4HKAYSBpgIwgjlBuAGCAwoBeUGjQ3gBigFUAoHDO0GYQTtBhIGiwkoBeAGBAYpBcANUApMBG4HTwr4DRMGYQTgBuAG4AZQCuUGKAUSBrIK5Qa+DYsJiwlGBEwEKAUHDCgG4AayCikFBAbDCLIKJAhPBBIGEgYoBUYEOAX4DY0NCAwoBQQGTAQkCBIGOAXgBmEEeg+DCiQIJAjhBpgIvg29CFYEEgYoBlgKKAWLCZgIPAVuCwgMgwo0Bf8GTAQSBggM4AbgBpgIVAQ6ClgK3Aa4Ck0ENAVPBEwEVgo4DgoGzAtEB5gI4AblBkwE4AbADYMKJg7gBigFXgoHDCgGOgrcBuwLCgZMBIsI3Ab6BSgFBAYoBRIGKAUoBd4G7AQIDEkLgwkuBb0IBAbgBpgIBAYjBYMGjwqPCuAGwA1UBDoFKAVcBDYGKAVMBI0NUwQuBV8KUApMBCwLLAsEBuAG3wZaBpgIrAhMBOAGCgYEBuAG7AQIDO4NmAgnCpkImQiLCCUF+Qk8C0QHLgVMBGYIKAXLDgcGOQpMBDkKTATiBk8EKgXgBisH6A1GC5gIugT/BlAKOgUEBigFUwRYCiMFAApQCuAGCgY4Be4G4QbrBbwHYQTXCZgInA6+DVQEEwYFBtAIgwbgBuAGmAixBjQFKgxEB1QEyggrBygF4Aa8B0cKTAQ4BSwLUAr6BSgFTATgBgQGVARMBCgF+A2YCCUIUAo8BdwG+gUrBf0JmAhWBMMIyggCBZgI5gYpBUwEAgUCBdsEKAVRB1AKXATEBiQHVQrsBEwE2wkoBVQEUwRfCjwLKAXCCBMGgwoHDAoGBAZMBCgFTAQEBjAKWwRMBEkETwQoBTQFKAYVB28H7AQoBVAKBQbtDQIFyw4IDKENmAjmBtwG+gU6CuQMiAQjBQQGNgYoBSgFBQbgBuAGmAhMBJgIrQcoBW4E5gZPBDoK3AYIDOsF4AYEBtAIKAVYDMcH6AuvCOMGOAUHBuIGjQ1PBEwEIAUABQgM7QaoDVAKOgrcBu4G7QbsBIsJBQaNDSgGUA5MBG4HiASYCFIEIAUKBvgNVgQ5BQQGBQZPBKgNVgSPCpcFmAhzCYsIOgrcBgYM5QZMBBkMnQiYCCsFTAQIDOAG4AZMBJgI4AZ4D8AIJAcoBjgObgfCCGQG4AZPBIMKTASYCAQGwA0oBRIGiwluBygFwggKBigFTAQoBjgFOgXsBEYLHQzEBi4JBAYoBRkF0AgoBSgFwA1hBE0EOA4EBtwJBAYVB+UGKAUSBvgNLgnlBuwE4AYoBa8ITATADYMKJAj4DSUFIAXCCFQEVAQEBuAGyggrBy4JKAUKBigFmAheCiYOKAWYCIMKLAvgBuAGmAjtBuAGLgk8BY0NBQYuCeAGKAUdDLIKwgg8BSgFRgTtBlAKPAWYCDgOJAgoBhIGPAU=",
          "dtype": "i2"
         },
         "y0": " ",
         "yaxis": "y"
        },
        {
         "alignmentgroup": "True",
         "hovertemplate": "Age=%{x}<br>distanceYards=%{y}<extra></extra>",
         "legendgroup": "8",
         "marker": {
          "color": "#FFA15A"
         },
         "name": "8",
         "notched": false,
         "offsetgroup": "8",
         "orientation": "v",
         "showlegend": true,
         "type": "box",
         "x": {
          "bdata": "CAgICAgICAgICAgICAgICAgICAgICAgICAgICAgICAgICAgICAgICAgICAgICAgICAgICAgICAgICAgICAgICAgICAgICAgICAgICAgICAgICAgICAgICAgICAgICAgICAgICAgICAgICAgICAgICAgICAgICAgICAgICAgICAgICAgICAgICAgICAgICAgICAgICAgICAgICAgICAgICAgICAgICAgICA==",
          "dtype": "i1"
         },
         "x0": " ",
         "xaxis": "x",
         "y": {
          "bdata": "BAbtBuAG4AZuB4sJKQUEBu0G4AYoBe0GEgZMBF4K4AYEBnMJTAQSBi4JEgZGBEwELglMBF4KXQoIDCgF4QZMBEYEJg5MBOAGKAUkCCAILAsqBSAFmQiYCAgMuAoIDFYEBBCYBigFUAooBUwE4AYgBd8GBAabCQQGLgUZDF0K3wdaCmEEBAYoBZ0IFAZWBCwLFQdTBOMGmAguBdsIBAbsBHUMdQoIDG4LRwpbBCgFFAa8By4FOgiYCAoGTAQEBlsEnQjtBmcKkRFNBAQGUwQoBQYJtQ0oBZgIqQgQDusFvAfQCEwE7AuxBsANKAX6BQsL3AbsCwUGUQd7DP0JTQQoBQQGugS8BwQGiwgTBigF0QZMBHoPTwooBRMGmAiZCC4JBAYgBRwGIAXKCCgG+A3ADUwECgYEBlAKKQVQChIGbgcHDAUGEgZQCmEELgmNDcII7QY=",
          "dtype": "i2"
         },
         "y0": " ",
         "yaxis": "y"
        },
        {
         "alignmentgroup": "True",
         "hovertemplate": "Age=%{x}<br>distanceYards=%{y}<extra></extra>",
         "legendgroup": "7",
         "marker": {
          "color": "#19d3f3"
         },
         "name": "7",
         "notched": false,
         "offsetgroup": "7",
         "orientation": "v",
         "showlegend": true,
         "type": "box",
         "x": {
          "bdata": "BwcHBwcHBwcHBwcHBwcHBwcHBwcHBwcHBwcHBwcHBwcHBwcHBwcHBwcHBwcHBwcHBwcHBwcHBwcHBwcHBwcHBwcHBwcHBwcHBwcHBwcHBwcHBwcHBwcHBwcHBwcHBwcHBwcHBwcHBwcHBwcHBwcHBwcHBwcHBwcHBwcHBwcHBwcHBwcHBwcHBwcHBwcHBwcHBwcHBwcHBwcHBwcHBwcHBwcHBwcHBwcHBwcHBwcHBwcHBwcHBwcHBwcHBwcHBwcHBwcHBwcHBwcHBwcHBwcHBwcHBwcHBwcHBwcHBwcHBwcHBwcHBwcHBwcHBwcHBwcHBwcHBwcHBwcHBwcHBwcHBwcHBwcHBwcHBwcHBwcHBwcHBwcH",
          "dtype": "i1"
         },
         "x0": " ",
         "xaxis": "x",
         "y": {
          "bdata": "EgZGBEYEBAZuB5gIBwwoBuUGBQZSBIMKRgQoBm4H4Aa+DQQGTwrhBuAGXgrADWEEwA0oBYMKEgZMBJgIEgZMBBIGJAjlBgcMiwk4BUwEOQrADUwEPAUoBk8EOA4KBuAGcwngBlYE3gYFBhIGOAXtBigFLg7cBgQGTAR2BCAFbgv8BewEugRGC68IOA5hBFAKwA00DOAGKAUIDCgFIAUUBuAGBAYuBQQGBwZMBEwEBAbsBAQGTwQ0DJgIRAe+CkwEmAgrBQoGCAy+DQQLvAc6CgQGnQgEBlMEOgUzBqgNkQfZBt8GBAYoBSgFXAS9CNwGKwflBi4FTASYCAoGnQgoBUkEVgrXBscGTARUBJwOKAYEBuAG4AaQCFMEBAb9CZgIOAVMBGcFTAT/BrAHmAjkDI0IBAZbB98GLg5QCjgFTATeBtcJGQUEBisFjQiYCBQGKAWYCMoIvg0UBkQHPAWDCigF4AZMBPgNVAZMBCUF7Ag4BU0E4gbXBikFmAiLCSgF3gY5BVYEiARcBEwEAApQDvwFKAUEBggM+gUSBuAGTQQEBt8GVgRMBAQG4AYuCUYLUApkBvwIBAYkB1MEXwoECygGYQRuB5gI5AwSBtEGTASZCCQIBAb6BbQODAe4CuAG4AZuBygFCAz6BQQGTAQEBuAGYQQkCNwJKAUIDG4HsgrgBuAGBAbCCOAGBAZhBEwEmAhMBGEEKAYEBkwEsgrgBjgOBAb4DeEG",
          "dtype": "i2"
         },
         "y0": " ",
         "yaxis": "y"
        },
        {
         "alignmentgroup": "True",
         "hovertemplate": "Age=%{x}<br>distanceYards=%{y}<extra></extra>",
         "legendgroup": "10",
         "marker": {
          "color": "#FF6692"
         },
         "name": "10",
         "notched": false,
         "offsetgroup": "10",
         "orientation": "v",
         "showlegend": true,
         "type": "box",
         "x": {
          "bdata": "CgoKCgoKCgoKCgoKCgoKCgoKCgoKCgoKCgoKCgoKCgoKCgoKCgoKCgoKCgo=",
          "dtype": "i1"
         },
         "x0": " ",
         "xaxis": "x",
         "y": {
          "bdata": "EgbhBjwFEgblBhIGEgY8BTwFEgY8BeUG5QbtBhIGVQooBSgFZggABeMGBAYlBQcGWwQ5BQgMugRMBLEGjgvsBAUQCgY2BiAFmAjDCOIG5QZuBzgFEgZMBA==",
          "dtype": "i2"
         },
         "y0": " ",
         "yaxis": "y"
        },
        {
         "alignmentgroup": "True",
         "hovertemplate": "Age=%{x}<br>distanceYards=%{y}<extra></extra>",
         "legendgroup": "9",
         "marker": {
          "color": "#B6E880"
         },
         "name": "9",
         "notched": false,
         "offsetgroup": "9",
         "orientation": "v",
         "showlegend": true,
         "type": "box",
         "x": {
          "bdata": "CQkJCQkJCQkJCQkJCQkJCQkJCQkJCQkJCQkJCQkJCQkJCQkJCQkJCQkJCQkJCQkJCQkJCQkJCQkJCQkJCQkJCQkJCQkJCQkJCQk=",
          "dtype": "i1"
         },
         "x0": " ",
         "xaxis": "x",
         "y": {
          "bdata": "4AYoBeAGJAg4BW4HYQRQCiQIBAZuB14KTwQoBeAGwA0uCSgFPAWLCBkFCgb9CdwG7AvXCeAGvQ0KBgYMiwh0CbEGwA0HBmQG4AYIDAQG4AZcBJgI2AbmBgILXQpcBAQGKAVdCiUFmAg4BUwEWApdCgoPvAfgBtAIBAbsBEwETwTiBkwEKAUoBuUGPAUoBkYEXgomDg==",
          "dtype": "i2"
         },
         "y0": " ",
         "yaxis": "y"
        },
        {
         "alignmentgroup": "True",
         "hovertemplate": "Age=%{x}<br>distanceYards=%{y}<extra></extra>",
         "legendgroup": "11",
         "marker": {
          "color": "#FF97FF"
         },
         "name": "11",
         "notched": false,
         "offsetgroup": "11",
         "orientation": "v",
         "showlegend": true,
         "type": "box",
         "x": {
          "bdata": "CwsLCwsLCws=",
          "dtype": "i1"
         },
         "x0": " ",
         "xaxis": "x",
         "y": {
          "bdata": "KAWYCCgFBAZGCwcMEgYoBg==",
          "dtype": "i2"
         },
         "y0": " ",
         "yaxis": "y"
        },
        {
         "alignmentgroup": "True",
         "hovertemplate": "Age=%{x}<br>distanceYards=%{y}<extra></extra>",
         "legendgroup": "12",
         "marker": {
          "color": "#FECB52"
         },
         "name": "12",
         "notched": false,
         "offsetgroup": "12",
         "orientation": "v",
         "showlegend": true,
         "type": "box",
         "x": {
          "bdata": "DAw=",
          "dtype": "i1"
         },
         "x0": " ",
         "xaxis": "x",
         "y": {
          "bdata": "KAZpCw==",
          "dtype": "i2"
         },
         "y0": " ",
         "yaxis": "y"
        },
        {
         "alignmentgroup": "True",
         "hovertemplate": "Age=%{x}<br>distanceYards=%{y}<extra></extra>",
         "legendgroup": "2",
         "marker": {
          "color": "#636efa"
         },
         "name": "2",
         "notched": false,
         "offsetgroup": "2",
         "orientation": "v",
         "showlegend": true,
         "type": "box",
         "x": {
          "bdata": "AgICAgICAgICAgICAgICAgICAgICAgICAgICAgICAgICAgICAgICAgICAgICAgICAgICAgICAgICAgICAgICAgICAgICAgICAgICAgICAgICAgICAgICAgICAgICAgICAgICAgICAgICAgICAgICAgICAgICAgICAgICAgICAgICAgICAgICAgICAgICAgICAgICAgICAgICAgICAgICAgICAgICAgICAgICAgICAgICAgICAgICAgICAgICAgICAgICAgICAgICAgICAgICAgICAgICAgICAgICAgICAgICAgICAgICAgICAgICAgICAgICAgICAgICAgICAgICAgICAgICAgICAgICAgICAgICAgICAgIC",
          "dtype": "i1"
         },
         "x0": " ",
         "xaxis": "x",
         "y": {
          "bdata": "KAXrBSgFTAQoBSgFBQYoBWEEZAZWBFMEBAYuBSgFNAVNBFIECgYoBSgFBwYoBVYETAQEBigFKAVNBCgFKgUEBgUGKAVMBCgF7AQEBgQGBAYoBeAGNAVkBkwEXAQHBm4HKAUEBigFOAUgBTQFiAQ6BSgGKAXgBgQGBAb+BkwEXATiBkwETQQABSgF6wUEBlYE4AYEBgQGTAQEBiMFiAQUBu4GOAUoBRIGLgX8BSgFYQQfBh8GBAZMBN4G4AZhBCgFIwUkCAQG5QYCBeEGlwUKBuAG4Ab9BSoFWwRWBE0E4AbiBigFKAUEBgcGEgbjBkwEKwXgBjYGKAUEBgUGYQQkCFMEKAYoBSgF3wYlBeAGRgRMBAQG4AYpBgQGKAUHBu0GBAZMBGEEKAXsBCgFTAQTBscGwggEBhIGBAbtBm4HKAXjBq8IYQQoBQQG+gUABcoIKAVMBJgITAQZBcQGBAYEBigFFQcHBhIGKwfgBlQE4AYpBigFTAQEBigF4AYEBuYGVgTtBjgFmAgoBQQGEgbgBigGKAZMBCgFCgYEBgQGKAVGBBIGBAbgBigFTATlBrwHKAYSBt8GKAVUBCgFBAYSBuUGmAgoBSoFKAVMBBIGEgbgBuAG4AYoBTwFEgZuBwQG4AZSBO0GKAVMBEwEYQQoBiQIPAVSBBIGBQbgBigF5QbtBigF4AYoBeAGEgZGBDgFKAYEBjgFTAQEBu0GbgckCEwEKAYoBUYEOAVuBykF",
          "dtype": "i2"
         },
         "y0": " ",
         "yaxis": "y"
        }
       ],
       "layout": {
        "boxmode": "overlay",
        "legend": {
         "title": {
          "text": "Age"
         },
         "tracegroupgap": 0
        },
        "showlegend": false,
        "template": {
         "data": {
          "bar": [
           {
            "error_x": {
             "color": "#2a3f5f"
            },
            "error_y": {
             "color": "#2a3f5f"
            },
            "marker": {
             "line": {
              "color": "#E5ECF6",
              "width": 0.5
             },
             "pattern": {
              "fillmode": "overlay",
              "size": 10,
              "solidity": 0.2
             }
            },
            "type": "bar"
           }
          ],
          "barpolar": [
           {
            "marker": {
             "line": {
              "color": "#E5ECF6",
              "width": 0.5
             },
             "pattern": {
              "fillmode": "overlay",
              "size": 10,
              "solidity": 0.2
             }
            },
            "type": "barpolar"
           }
          ],
          "carpet": [
           {
            "aaxis": {
             "endlinecolor": "#2a3f5f",
             "gridcolor": "white",
             "linecolor": "white",
             "minorgridcolor": "white",
             "startlinecolor": "#2a3f5f"
            },
            "baxis": {
             "endlinecolor": "#2a3f5f",
             "gridcolor": "white",
             "linecolor": "white",
             "minorgridcolor": "white",
             "startlinecolor": "#2a3f5f"
            },
            "type": "carpet"
           }
          ],
          "choropleth": [
           {
            "colorbar": {
             "outlinewidth": 0,
             "ticks": ""
            },
            "type": "choropleth"
           }
          ],
          "contour": [
           {
            "colorbar": {
             "outlinewidth": 0,
             "ticks": ""
            },
            "colorscale": [
             [
              0,
              "#0d0887"
             ],
             [
              0.1111111111111111,
              "#46039f"
             ],
             [
              0.2222222222222222,
              "#7201a8"
             ],
             [
              0.3333333333333333,
              "#9c179e"
             ],
             [
              0.4444444444444444,
              "#bd3786"
             ],
             [
              0.5555555555555556,
              "#d8576b"
             ],
             [
              0.6666666666666666,
              "#ed7953"
             ],
             [
              0.7777777777777778,
              "#fb9f3a"
             ],
             [
              0.8888888888888888,
              "#fdca26"
             ],
             [
              1,
              "#f0f921"
             ]
            ],
            "type": "contour"
           }
          ],
          "contourcarpet": [
           {
            "colorbar": {
             "outlinewidth": 0,
             "ticks": ""
            },
            "type": "contourcarpet"
           }
          ],
          "heatmap": [
           {
            "colorbar": {
             "outlinewidth": 0,
             "ticks": ""
            },
            "colorscale": [
             [
              0,
              "#0d0887"
             ],
             [
              0.1111111111111111,
              "#46039f"
             ],
             [
              0.2222222222222222,
              "#7201a8"
             ],
             [
              0.3333333333333333,
              "#9c179e"
             ],
             [
              0.4444444444444444,
              "#bd3786"
             ],
             [
              0.5555555555555556,
              "#d8576b"
             ],
             [
              0.6666666666666666,
              "#ed7953"
             ],
             [
              0.7777777777777778,
              "#fb9f3a"
             ],
             [
              0.8888888888888888,
              "#fdca26"
             ],
             [
              1,
              "#f0f921"
             ]
            ],
            "type": "heatmap"
           }
          ],
          "histogram": [
           {
            "marker": {
             "pattern": {
              "fillmode": "overlay",
              "size": 10,
              "solidity": 0.2
             }
            },
            "type": "histogram"
           }
          ],
          "histogram2d": [
           {
            "colorbar": {
             "outlinewidth": 0,
             "ticks": ""
            },
            "colorscale": [
             [
              0,
              "#0d0887"
             ],
             [
              0.1111111111111111,
              "#46039f"
             ],
             [
              0.2222222222222222,
              "#7201a8"
             ],
             [
              0.3333333333333333,
              "#9c179e"
             ],
             [
              0.4444444444444444,
              "#bd3786"
             ],
             [
              0.5555555555555556,
              "#d8576b"
             ],
             [
              0.6666666666666666,
              "#ed7953"
             ],
             [
              0.7777777777777778,
              "#fb9f3a"
             ],
             [
              0.8888888888888888,
              "#fdca26"
             ],
             [
              1,
              "#f0f921"
             ]
            ],
            "type": "histogram2d"
           }
          ],
          "histogram2dcontour": [
           {
            "colorbar": {
             "outlinewidth": 0,
             "ticks": ""
            },
            "colorscale": [
             [
              0,
              "#0d0887"
             ],
             [
              0.1111111111111111,
              "#46039f"
             ],
             [
              0.2222222222222222,
              "#7201a8"
             ],
             [
              0.3333333333333333,
              "#9c179e"
             ],
             [
              0.4444444444444444,
              "#bd3786"
             ],
             [
              0.5555555555555556,
              "#d8576b"
             ],
             [
              0.6666666666666666,
              "#ed7953"
             ],
             [
              0.7777777777777778,
              "#fb9f3a"
             ],
             [
              0.8888888888888888,
              "#fdca26"
             ],
             [
              1,
              "#f0f921"
             ]
            ],
            "type": "histogram2dcontour"
           }
          ],
          "mesh3d": [
           {
            "colorbar": {
             "outlinewidth": 0,
             "ticks": ""
            },
            "type": "mesh3d"
           }
          ],
          "parcoords": [
           {
            "line": {
             "colorbar": {
              "outlinewidth": 0,
              "ticks": ""
             }
            },
            "type": "parcoords"
           }
          ],
          "pie": [
           {
            "automargin": true,
            "type": "pie"
           }
          ],
          "scatter": [
           {
            "fillpattern": {
             "fillmode": "overlay",
             "size": 10,
             "solidity": 0.2
            },
            "type": "scatter"
           }
          ],
          "scatter3d": [
           {
            "line": {
             "colorbar": {
              "outlinewidth": 0,
              "ticks": ""
             }
            },
            "marker": {
             "colorbar": {
              "outlinewidth": 0,
              "ticks": ""
             }
            },
            "type": "scatter3d"
           }
          ],
          "scattercarpet": [
           {
            "marker": {
             "colorbar": {
              "outlinewidth": 0,
              "ticks": ""
             }
            },
            "type": "scattercarpet"
           }
          ],
          "scattergeo": [
           {
            "marker": {
             "colorbar": {
              "outlinewidth": 0,
              "ticks": ""
             }
            },
            "type": "scattergeo"
           }
          ],
          "scattergl": [
           {
            "marker": {
             "colorbar": {
              "outlinewidth": 0,
              "ticks": ""
             }
            },
            "type": "scattergl"
           }
          ],
          "scattermap": [
           {
            "marker": {
             "colorbar": {
              "outlinewidth": 0,
              "ticks": ""
             }
            },
            "type": "scattermap"
           }
          ],
          "scattermapbox": [
           {
            "marker": {
             "colorbar": {
              "outlinewidth": 0,
              "ticks": ""
             }
            },
            "type": "scattermapbox"
           }
          ],
          "scatterpolar": [
           {
            "marker": {
             "colorbar": {
              "outlinewidth": 0,
              "ticks": ""
             }
            },
            "type": "scatterpolar"
           }
          ],
          "scatterpolargl": [
           {
            "marker": {
             "colorbar": {
              "outlinewidth": 0,
              "ticks": ""
             }
            },
            "type": "scatterpolargl"
           }
          ],
          "scatterternary": [
           {
            "marker": {
             "colorbar": {
              "outlinewidth": 0,
              "ticks": ""
             }
            },
            "type": "scatterternary"
           }
          ],
          "surface": [
           {
            "colorbar": {
             "outlinewidth": 0,
             "ticks": ""
            },
            "colorscale": [
             [
              0,
              "#0d0887"
             ],
             [
              0.1111111111111111,
              "#46039f"
             ],
             [
              0.2222222222222222,
              "#7201a8"
             ],
             [
              0.3333333333333333,
              "#9c179e"
             ],
             [
              0.4444444444444444,
              "#bd3786"
             ],
             [
              0.5555555555555556,
              "#d8576b"
             ],
             [
              0.6666666666666666,
              "#ed7953"
             ],
             [
              0.7777777777777778,
              "#fb9f3a"
             ],
             [
              0.8888888888888888,
              "#fdca26"
             ],
             [
              1,
              "#f0f921"
             ]
            ],
            "type": "surface"
           }
          ],
          "table": [
           {
            "cells": {
             "fill": {
              "color": "#EBF0F8"
             },
             "line": {
              "color": "white"
             }
            },
            "header": {
             "fill": {
              "color": "#C8D4E3"
             },
             "line": {
              "color": "white"
             }
            },
            "type": "table"
           }
          ]
         },
         "layout": {
          "annotationdefaults": {
           "arrowcolor": "#2a3f5f",
           "arrowhead": 0,
           "arrowwidth": 1
          },
          "autotypenumbers": "strict",
          "coloraxis": {
           "colorbar": {
            "outlinewidth": 0,
            "ticks": ""
           }
          },
          "colorscale": {
           "diverging": [
            [
             0,
             "#8e0152"
            ],
            [
             0.1,
             "#c51b7d"
            ],
            [
             0.2,
             "#de77ae"
            ],
            [
             0.3,
             "#f1b6da"
            ],
            [
             0.4,
             "#fde0ef"
            ],
            [
             0.5,
             "#f7f7f7"
            ],
            [
             0.6,
             "#e6f5d0"
            ],
            [
             0.7,
             "#b8e186"
            ],
            [
             0.8,
             "#7fbc41"
            ],
            [
             0.9,
             "#4d9221"
            ],
            [
             1,
             "#276419"
            ]
           ],
           "sequential": [
            [
             0,
             "#0d0887"
            ],
            [
             0.1111111111111111,
             "#46039f"
            ],
            [
             0.2222222222222222,
             "#7201a8"
            ],
            [
             0.3333333333333333,
             "#9c179e"
            ],
            [
             0.4444444444444444,
             "#bd3786"
            ],
            [
             0.5555555555555556,
             "#d8576b"
            ],
            [
             0.6666666666666666,
             "#ed7953"
            ],
            [
             0.7777777777777778,
             "#fb9f3a"
            ],
            [
             0.8888888888888888,
             "#fdca26"
            ],
            [
             1,
             "#f0f921"
            ]
           ],
           "sequentialminus": [
            [
             0,
             "#0d0887"
            ],
            [
             0.1111111111111111,
             "#46039f"
            ],
            [
             0.2222222222222222,
             "#7201a8"
            ],
            [
             0.3333333333333333,
             "#9c179e"
            ],
            [
             0.4444444444444444,
             "#bd3786"
            ],
            [
             0.5555555555555556,
             "#d8576b"
            ],
            [
             0.6666666666666666,
             "#ed7953"
            ],
            [
             0.7777777777777778,
             "#fb9f3a"
            ],
            [
             0.8888888888888888,
             "#fdca26"
            ],
            [
             1,
             "#f0f921"
            ]
           ]
          },
          "colorway": [
           "#636efa",
           "#EF553B",
           "#00cc96",
           "#ab63fa",
           "#FFA15A",
           "#19d3f3",
           "#FF6692",
           "#B6E880",
           "#FF97FF",
           "#FECB52"
          ],
          "font": {
           "color": "#2a3f5f"
          },
          "geo": {
           "bgcolor": "white",
           "lakecolor": "white",
           "landcolor": "#E5ECF6",
           "showlakes": true,
           "showland": true,
           "subunitcolor": "white"
          },
          "hoverlabel": {
           "align": "left"
          },
          "hovermode": "closest",
          "mapbox": {
           "style": "light"
          },
          "paper_bgcolor": "white",
          "plot_bgcolor": "#E5ECF6",
          "polar": {
           "angularaxis": {
            "gridcolor": "white",
            "linecolor": "white",
            "ticks": ""
           },
           "bgcolor": "#E5ECF6",
           "radialaxis": {
            "gridcolor": "white",
            "linecolor": "white",
            "ticks": ""
           }
          },
          "scene": {
           "xaxis": {
            "backgroundcolor": "#E5ECF6",
            "gridcolor": "white",
            "gridwidth": 2,
            "linecolor": "white",
            "showbackground": true,
            "ticks": "",
            "zerolinecolor": "white"
           },
           "yaxis": {
            "backgroundcolor": "#E5ECF6",
            "gridcolor": "white",
            "gridwidth": 2,
            "linecolor": "white",
            "showbackground": true,
            "ticks": "",
            "zerolinecolor": "white"
           },
           "zaxis": {
            "backgroundcolor": "#E5ECF6",
            "gridcolor": "white",
            "gridwidth": 2,
            "linecolor": "white",
            "showbackground": true,
            "ticks": "",
            "zerolinecolor": "white"
           }
          },
          "shapedefaults": {
           "line": {
            "color": "#2a3f5f"
           }
          },
          "ternary": {
           "aaxis": {
            "gridcolor": "white",
            "linecolor": "white",
            "ticks": ""
           },
           "baxis": {
            "gridcolor": "white",
            "linecolor": "white",
            "ticks": ""
           },
           "bgcolor": "#E5ECF6",
           "caxis": {
            "gridcolor": "white",
            "linecolor": "white",
            "ticks": ""
           }
          },
          "title": {
           "x": 0.05
          },
          "xaxis": {
           "automargin": true,
           "gridcolor": "white",
           "linecolor": "white",
           "ticks": "",
           "title": {
            "standoff": 15
           },
           "zerolinecolor": "white",
           "zerolinewidth": 2
          },
          "yaxis": {
           "automargin": true,
           "gridcolor": "white",
           "linecolor": "white",
           "ticks": "",
           "title": {
            "standoff": 15
           },
           "zerolinecolor": "white",
           "zerolinewidth": 2
          }
         }
        },
        "title": {
         "text": "Race Distance by Horse Age (Winners Only)"
        },
        "xaxis": {
         "anchor": "y",
         "categoryarray": [
          4,
          3,
          5,
          6,
          8,
          7,
          10,
          9,
          11,
          12,
          2
         ],
         "categoryorder": "array",
         "domain": [
          0,
          1
         ],
         "title": {
          "text": "Horse Age"
         }
        },
        "yaxis": {
         "anchor": "x",
         "domain": [
          0,
          1
         ],
         "title": {
          "text": "Race Distance (Yards)"
         }
        }
       }
      }
     },
     "metadata": {},
     "output_type": "display_data"
    }
   ],
   "source": [
    "# plt.figure(figsize=(10, 6))\n",
    "# sns.boxplot(x='Age', y='distanceYards', data=winners, palette='coolwarm')\n",
    "# plt.title('Race Distance by Horse Age (Winners Only)')\n",
    "# plt.xlabel('Horse Age')\n",
    "# plt.ylabel('Race Distance (Yards)')\n",
    "# plt.tight_layout()\n",
    "# plt.show()\n",
    "\n",
    "fig = px.box(\n",
    "    winners, x='Age', y='distanceYards', \n",
    "    color='Age',\n",
    "    title='Race Distance by Horse Age (Winners Only)'\n",
    ")\n",
    "\n",
    "fig.update_layout(\n",
    "    xaxis_title='Horse Age',\n",
    "    yaxis_title='Race Distance (Yards)',\n",
    "    showlegend=False,  # Optional: if you don't want a legend\n",
    ")\n",
    "\n",
    "fig.show()\n"
   ]
  },
  {
   "cell_type": "code",
   "execution_count": 48,
   "id": "340debe3",
   "metadata": {},
   "outputs": [],
   "source": [
    "# saving the modified dataframe as csv\n",
    "outputdir='./data'\n",
    "if not os.path.exists(outputdir):\n",
    "    os.mkdir(outputdir)\n",
    "\n",
    "dir=os.path.join(outputdir,'train.csv')\n",
    "traindf.to_csv(dir,index=False)"
   ]
  },
  {
   "cell_type": "code",
   "execution_count": null,
   "id": "47d62da0",
   "metadata": {},
   "outputs": [],
   "source": []
  }
 ],
 "metadata": {
  "kernelspec": {
   "display_name": "env",
   "language": "python",
   "name": "python3"
  },
  "language_info": {
   "codemirror_mode": {
    "name": "ipython",
    "version": 3
   },
   "file_extension": ".py",
   "mimetype": "text/x-python",
   "name": "python",
   "nbconvert_exporter": "python",
   "pygments_lexer": "ipython3",
   "version": "3.12.4"
  }
 },
 "nbformat": 4,
 "nbformat_minor": 5
}
